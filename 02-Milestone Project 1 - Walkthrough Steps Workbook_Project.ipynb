{
 "cells": [
  {
   "cell_type": "markdown",
   "metadata": {},
   "source": [
    "___\n",
    "\n",
    "<a href='https://www.udemy.com/user/joseportilla/'><img src='../Pierian_Data_Logo.png'/></a>\n",
    "___\n",
    "<center><em>Content Copyright by Pierian Data</em></center>"
   ]
  },
  {
   "cell_type": "markdown",
   "metadata": {},
   "source": [
    "# Milestone Project 1: Walkthrough Steps Workbook\n",
    "\n",
    "Below is a set of steps for you to follow to try to create the Tic Tac Toe Milestone Project game!"
   ]
  },
  {
   "cell_type": "markdown",
   "metadata": {},
   "source": [
    "#### Some suggested tools before you get started:\n",
    "To take input from a user:\n",
    "\n",
    "    player1 = input(\"Please pick a marker 'X' or 'O'\")\n",
    "    \n",
    "Note that input() takes in a string. If you need an integer value, use\n",
    "\n",
    "    position = int(input('Please enter a number'))\n",
    "    \n",
    "<br>To clear the screen between moves:\n",
    "\n",
    "    from IPython.display import clear_output\n",
    "    clear_output()\n",
    "    \n",
    "Note that clear_output() will only work in jupyter. To clear the screen in other IDEs, consider:\n",
    "\n",
    "    print('\\n'*100)\n",
    "    \n",
    "This scrolls the previous board up out of view. Now on to the program!"
   ]
  },
  {
   "cell_type": "markdown",
   "metadata": {},
   "source": [
    "**Step 1: Write a function that can print out a board. Set up your board as a list, where each index 1-9 corresponds with a number on a number pad, so you get a 3 by 3 board representation.**"
   ]
  },
  {
   "cell_type": "code",
   "execution_count": 1,
   "metadata": {},
   "outputs": [],
   "source": [
    "from IPython.display import clear_output\n",
    "\n",
    "def display_board(board):\n",
    "    \n",
    "    clear_output()\n",
    "    \n",
    "    print('   |   |')\n",
    "    print(' ' + board[7] + ' | ' + board[8] + ' | ' + board[9])\n",
    "    print('   |   |')\n",
    "    print('-----------')\n",
    "    print('   |   |')\n",
    "    print(' ' + board[4] + ' | ' + board[5] + ' | ' + board[6])\n",
    "    print('   |   |')\n",
    "    print('-----------')\n",
    "    print('   |   |')\n",
    "    print(' ' + board[1] + ' | ' + board[2] + ' | ' + board[3])\n",
    "    print('   |   |')\n",
    "    \n",
    "#     print('   |   |')\n",
    "#     print(' ' + board[7] + ' | ' + board[8] + ' | ' + board[9])\n",
    "#     print('   |   |')\n",
    "#     print('-----------')\n",
    "#     print('   |   |')\n",
    "#     print(' ' + board[4] + ' | ' + board[5] + ' | ' + board[6])\n",
    "#     print('   |   |')\n",
    "#     print('-----------')\n",
    "#     print('   |   |')\n",
    "#     print(' ' + board[1] + ' | ' + board[2] + ' | ' + board[3])\n",
    "#     print('   |   |')"
   ]
  },
  {
   "cell_type": "markdown",
   "metadata": {},
   "source": [
    "**TEST Step 1:** run your function on a test version of the board list, and make adjustments as necessary"
   ]
  },
  {
   "cell_type": "code",
   "execution_count": 2,
   "metadata": {},
   "outputs": [
    {
     "name": "stdout",
     "output_type": "stream",
     "text": [
      "   |   |\n",
      " X | O | X\n",
      "   |   |\n",
      "-----------\n",
      "   |   |\n",
      " O | X | O\n",
      "   |   |\n",
      "-----------\n",
      "   |   |\n",
      " X | O | X\n",
      "   |   |\n"
     ]
    }
   ],
   "source": [
    "test_board = ['#','X','O','X','O','X','O','X','O','X']\n",
    "display_board(test_board)"
   ]
  },
  {
   "cell_type": "code",
   "execution_count": 3,
   "metadata": {},
   "outputs": [
    {
     "name": "stdout",
     "output_type": "stream",
     "text": [
      "   |   |\n",
      "   |   |  \n",
      "   |   |\n",
      "-----------\n",
      "   |   |\n",
      "   |   |  \n",
      "   |   |\n",
      "-----------\n",
      "   |   |\n",
      "   |   |  \n",
      "   |   |\n"
     ]
    }
   ],
   "source": [
    "board = ['#',' ',' ',' ',' ',' ',' ',' ',' ',' ']\n",
    "display_board(board)"
   ]
  },
  {
   "cell_type": "markdown",
   "metadata": {},
   "source": [
    "**Step 2: Write a function that can take in a player input and assign their marker as 'X' or 'O'. Think about using *while* loops to continually ask until you get a correct answer.**"
   ]
  },
  {
   "cell_type": "code",
   "execution_count": 4,
   "metadata": {},
   "outputs": [],
   "source": [
    "def player_input():\n",
    "    \n",
    "    marker = ''\n",
    "     \n",
    "    #while choice is not X or O\n",
    "    while marker != 'X' and marker != 'O':\n",
    "        \n",
    "    #ask user to select X or O\n",
    "        marker = input(\"Player 1, would you like to be X or O? \").upper()\n",
    "        \n",
    "    #store player's markers in a tuple (player 1, player 2)       \n",
    "    if marker == 'X':\n",
    "        \n",
    "        return('X','O')\n",
    "        \n",
    "    else:\n",
    "        \n",
    "        return('O','X')\n",
    "\n",
    "  "
   ]
  },
  {
   "cell_type": "markdown",
   "metadata": {},
   "source": [
    "**TEST Step 2:** run the function to make sure it returns the desired output"
   ]
  },
  {
   "cell_type": "code",
   "execution_count": 5,
   "metadata": {},
   "outputs": [
    {
     "name": "stdin",
     "output_type": "stream",
     "text": [
      "Player 1, would you like to be X or O?  x\n"
     ]
    },
    {
     "data": {
      "text/plain": [
       "('X', 'O')"
      ]
     },
     "execution_count": 5,
     "metadata": {},
     "output_type": "execute_result"
    }
   ],
   "source": [
    "player_input()"
   ]
  },
  {
   "cell_type": "markdown",
   "metadata": {},
   "source": [
    "**Step 3: Write a function that takes in the board list object, a marker ('X' or 'O'), and a desired position (number 1-9) and assigns it to the board.**"
   ]
  },
  {
   "cell_type": "code",
   "execution_count": 6,
   "metadata": {},
   "outputs": [],
   "source": [
    "# def place_marker(board, marker, position):\n",
    "    \n",
    "#     position = ''\n",
    "#     numbers = ['1','2','3','4','5','6','7','8','9']\n",
    "    \n",
    "#     #while position is not between 1-9:\n",
    "#     while position not in numbers:\n",
    "        \n",
    "#         #keep asking for input\n",
    "#         position = input(\"Select where to placer the marker (positions 1-9): \")\n",
    "        \n",
    "#         #if invalid position\n",
    "#         if position not in numbers:\n",
    "            \n",
    "#             print(\"Sorry, you didn't select a valid position.\")\n",
    "            \n",
    "#         else:\n",
    "            \n",
    "#             position = int(position)\n",
    "\n",
    "#         #while marker is not player 1 or 2:\n",
    "#         while marker \n",
    "        \n",
    "#         #select player's marker    \n",
    "            \n",
    "#     board[position] = marker"
   ]
  },
  {
   "cell_type": "code",
   "execution_count": 7,
   "metadata": {},
   "outputs": [],
   "source": [
    "def place_marker(board, marker, position):\n",
    "    board[position] = marker"
   ]
  },
  {
   "cell_type": "markdown",
   "metadata": {},
   "source": [
    "**TEST Step 3:** run the place marker function using test parameters and display the modified board"
   ]
  },
  {
   "cell_type": "code",
   "execution_count": 8,
   "metadata": {},
   "outputs": [],
   "source": [
    "# place_marker(board, marker, position)\n",
    "# display_board(board)"
   ]
  },
  {
   "cell_type": "code",
   "execution_count": 9,
   "metadata": {},
   "outputs": [
    {
     "name": "stdout",
     "output_type": "stream",
     "text": [
      "   |   |\n",
      " X | * | X\n",
      "   |   |\n",
      "-----------\n",
      "   |   |\n",
      " O | X | O\n",
      "   |   |\n",
      "-----------\n",
      "   |   |\n",
      " X | O | X\n",
      "   |   |\n"
     ]
    }
   ],
   "source": [
    "place_marker(test_board,'*',8)\n",
    "display_board(test_board)"
   ]
  },
  {
   "cell_type": "markdown",
   "metadata": {},
   "source": [
    "**Step 4: Write a function that takes in a board and a mark (X or O) and then checks to see if that mark has won. **"
   ]
  },
  {
   "cell_type": "code",
   "execution_count": 10,
   "metadata": {},
   "outputs": [],
   "source": [
    "def win_check(board, mark):\n",
    "    \n",
    "    return ((board[7] == mark and board[8] == mark and board[9] == mark) or # across the top\n",
    "    (board[4] == mark and board[5] == mark and board[6] == mark) or # across the middle\n",
    "    (board[1] == mark and board[2] == mark and board[3] == mark) or # across the bottom\n",
    "    (board[7] == mark and board[4] == mark and board[1] == mark) or # down the middle\n",
    "    (board[8] == mark and board[5] == mark and board[2] == mark) or # down the middle\n",
    "    (board[9] == mark and board[6] == mark and board[3] == mark) or # down the right side\n",
    "    (board[7] == mark and board[5] == mark and board[3] == mark) or # diagonal\n",
    "    (board[9] == mark and board[5] == mark and board[1] == mark)) # diagonal"
   ]
  },
  {
   "cell_type": "markdown",
   "metadata": {},
   "source": [
    "**TEST Step 4:** run the win_check function against our test_board - it should return True"
   ]
  },
  {
   "cell_type": "code",
   "execution_count": 11,
   "metadata": {},
   "outputs": [
    {
     "data": {
      "text/plain": [
       "True"
      ]
     },
     "execution_count": 11,
     "metadata": {},
     "output_type": "execute_result"
    }
   ],
   "source": [
    "win_check(test_board,'X')"
   ]
  },
  {
   "cell_type": "markdown",
   "metadata": {},
   "source": [
    "**Step 5: Write a function that uses the random module to randomly decide which player goes first. You may want to lookup random.randint() Return a string of which player went first.**"
   ]
  },
  {
   "cell_type": "code",
   "execution_count": 12,
   "metadata": {},
   "outputs": [],
   "source": [
    "import random\n",
    "\n",
    "def choose_first():\n",
    "    \n",
    "    if random.randint(1,2) == 1:\n",
    "        return 'Player 1'\n",
    "    else:\n",
    "        return 'Player 2'\n",
    "        "
   ]
  },
  {
   "cell_type": "code",
   "execution_count": 13,
   "metadata": {},
   "outputs": [
    {
     "data": {
      "text/plain": [
       "'Player 2'"
      ]
     },
     "execution_count": 13,
     "metadata": {},
     "output_type": "execute_result"
    }
   ],
   "source": [
    "choose_first()"
   ]
  },
  {
   "cell_type": "markdown",
   "metadata": {},
   "source": [
    "**Step 6: Write a function that returns a boolean indicating whether a space on the board is freely available.**"
   ]
  },
  {
   "cell_type": "code",
   "execution_count": 14,
   "metadata": {},
   "outputs": [],
   "source": [
    "def space_check(board, position):\n",
    "    \n",
    "    return board[position] == ' '"
   ]
  },
  {
   "cell_type": "markdown",
   "metadata": {},
   "source": [
    "**Step 7: Write a function that checks if the board is full and returns a boolean value. True if full, False otherwise.**"
   ]
  },
  {
   "cell_type": "code",
   "execution_count": 15,
   "metadata": {},
   "outputs": [],
   "source": [
    "def full_board_check(board):\n",
    "    \n",
    "    return ' ' not in board"
   ]
  },
  {
   "cell_type": "markdown",
   "metadata": {},
   "source": [
    "**Step 8: Write a function that asks for a player's next position (as a number 1-9) and then uses the function from step 6 to check if it's a free position. If it is, then return the position for later use.**"
   ]
  },
  {
   "cell_type": "code",
   "execution_count": 16,
   "metadata": {},
   "outputs": [],
   "source": [
    "def player_choice(board):\n",
    "    \n",
    "    position = 0\n",
    "    is_space = ''\n",
    "    \n",
    "    numbers = ['1','2','3','4','5','6','7','8','9']\n",
    "    \n",
    "    #while position is not between 1-9:\n",
    "    while position not in numbers or is_space != True:\n",
    "        \n",
    "        #keep asking for input\n",
    "        position = input(\"Select where to placer the marker (positions 1-9): \")\n",
    "        \n",
    "        #if invalid position\n",
    "        if position not in numbers:\n",
    "            \n",
    "            print(\"Sorry, you didn't select a valid position.\")\n",
    "            pass\n",
    "            \n",
    "        else:\n",
    "            \n",
    "            #convert string input to integer\n",
    "            position = int(position)\n",
    "                             \n",
    "            #store space check output in variable\n",
    "            is_space = space_check(board, position)\n",
    "            \n",
    "            if is_space == True:\n",
    "                \n",
    "                return position\n",
    "        \n",
    "            else:\n",
    "                \n",
    "                print(\"Sorry, that position is already taken.\")\n",
    "                \n",
    "            pass\n",
    "\n",
    "        "
   ]
  },
  {
   "cell_type": "code",
   "execution_count": 17,
   "metadata": {},
   "outputs": [
    {
     "name": "stdin",
     "output_type": "stream",
     "text": [
      "Select where to placer the marker (positions 1-9):  2\n"
     ]
    },
    {
     "data": {
      "text/plain": [
       "2"
      ]
     },
     "execution_count": 17,
     "metadata": {},
     "output_type": "execute_result"
    }
   ],
   "source": [
    "player_choice(board)"
   ]
  },
  {
   "cell_type": "markdown",
   "metadata": {},
   "source": [
    "**Step 9: Write a function that asks the player if they want to play again and returns a boolean True if they do want to play again.**"
   ]
  },
  {
   "cell_type": "code",
   "execution_count": 18,
   "metadata": {},
   "outputs": [],
   "source": [
    "def replay():\n",
    "    \n",
    "    game_on = 'wrong'\n",
    "    \n",
    "    while game_on not in ['Y','N']:\n",
    "        \n",
    "        game_on = input(\"Would you like to play again? Y or N \").upper()\n",
    "        \n",
    "        if game_on not in ['Y','N']:\n",
    "            \n",
    "            clear_output()\n",
    "            print(\"Sorry, I don't understand. Please select Y or N.\")\n",
    "            pass\n",
    "        \n",
    "        else: \n",
    "            \n",
    "            return game_on == 'Y'     \n",
    "            "
   ]
  },
  {
   "cell_type": "code",
   "execution_count": 19,
   "metadata": {},
   "outputs": [
    {
     "name": "stdin",
     "output_type": "stream",
     "text": [
      "Would you like to play again? Y or N  n\n"
     ]
    },
    {
     "data": {
      "text/plain": [
       "False"
      ]
     },
     "execution_count": 19,
     "metadata": {},
     "output_type": "execute_result"
    }
   ],
   "source": [
    "replay()"
   ]
  },
  {
   "cell_type": "markdown",
   "metadata": {},
   "source": [
    "**Step 10: Here comes the hard part! Use while loops and the functions you've made to run the game!**"
   ]
  },
  {
   "cell_type": "code",
   "execution_count": 41,
   "metadata": {},
   "outputs": [
    {
     "name": "stdout",
     "output_type": "stream",
     "text": [
      "   |   |\n",
      " O |   |  \n",
      "   |   |\n",
      "-----------\n",
      "   |   |\n",
      " O | X | X\n",
      "   |   |\n",
      "-----------\n",
      "   |   |\n",
      " O |   | X\n",
      "   |   |\n",
      "Player 2 wins!\n"
     ]
    },
    {
     "name": "stdin",
     "output_type": "stream",
     "text": [
      "Would you like to play again? Y or N  N\n"
     ]
    },
    {
     "name": "stdout",
     "output_type": "stream",
     "text": [
      "Goodbye\n"
     ]
    }
   ],
   "source": [
    "#clear any leftover data\n",
    "clear_output()\n",
    "\n",
    "print('Welcome to Tic Tac Toe!')\n",
    "\n",
    "while game_on == True:\n",
    "\n",
    "    # Set the game up here\n",
    "   \n",
    "    #establish the board\n",
    "    #can just do [' '] * 10 to create 10 blank spaces\n",
    "    board = ['#',' ',' ',' ',' ',' ',' ',' ',' ',' ']\n",
    "    \n",
    "    #player 1 selects marker\n",
    "    #set player markers\n",
    "    player1_marker, player2_marker = player_input()\n",
    "    \n",
    "    #select player to move first\n",
    "    turn = choose_first()\n",
    "   \n",
    "    is_full = False\n",
    "    is_winner = False\n",
    "    \n",
    "    while is_full is False and is_winner is False:       \n",
    "     \n",
    "        #Player 1 Turn\n",
    "\n",
    "        if turn == 'Player 1':\n",
    "\n",
    "            print(\"Player 1, it's your turn.\")\n",
    "\n",
    "            #Display updated board\n",
    "            display_board(board)\n",
    "            \n",
    "            #Player 1 selects position\n",
    "            marker = player1_marker\n",
    "            position_choice = player_choice(board)\n",
    "\n",
    "            #Marker gets added to selected position\n",
    "            #Can also just pass player marker into function\n",
    "            add_marker = place_marker(board, marker, position_choice)\n",
    "\n",
    "            #while board is not full and game has not been won, keep playing\n",
    "            if win_check(board, marker):\n",
    "                \n",
    "                #Display final board and result\n",
    "                display_board(board)\n",
    "                print('Player 1 wins!')\n",
    "                break               \n",
    "            \n",
    "            elif full_board_check(board):\n",
    "                \n",
    "                #Display final board and result\n",
    "                display_board(board)\n",
    "                print('Tie game')\n",
    "                break\n",
    "            \n",
    "            else:\n",
    "                \n",
    "                #make sure to use turn = 'Player 2' rather than turn == 'Player 2'\n",
    "                #former defines 'turn' as player 2 \n",
    "                #latter is simply a boolean statement asking if turn is equal to Player 2\n",
    "                turn = 'Player 2'\n",
    "\n",
    "        #Switch to player 2\n",
    "\n",
    "        else:\n",
    "\n",
    "            print(\"Player 2, it's your turn.\")\n",
    "\n",
    "            #Display updated board\n",
    "            display_board(board)\n",
    "\n",
    "            #Player 2 enters marker in selected position\n",
    "            marker = player2_marker\n",
    "            position_choice = player_choice(board)\n",
    "\n",
    "            #Marker gets added to selected position\n",
    "            add_marker = place_marker(board, marker, position_choice)\n",
    "\n",
    "            #while board is not full and game has not been won, keep playing\n",
    "            if win_check(board, marker):\n",
    "                \n",
    "                #Display final board and resu't\n",
    "                display_board(board)\n",
    "                print('Player 2 wins!')\n",
    "                break               \n",
    "            \n",
    "            elif full_board_check(board):\n",
    "                \n",
    "                #Display final board and result\n",
    "                display_board(board)\n",
    "                print('Tie game')\n",
    "                break\n",
    "            \n",
    "            else:\n",
    "                \n",
    "                turn = 'Player 1'\n",
    "        \n",
    "    #If yes, restart game\n",
    "    if not replay():\n",
    "        print(\"Goodbye\")\n",
    "        break\n"
   ]
  },
  {
   "cell_type": "markdown",
   "metadata": {},
   "source": [
    "## Good Job!"
   ]
  }
 ],
 "metadata": {
  "kernelspec": {
   "display_name": "Python 3",
   "language": "python",
   "name": "python3"
  },
  "language_info": {
   "codemirror_mode": {
    "name": "ipython",
    "version": 3
   },
   "file_extension": ".py",
   "mimetype": "text/x-python",
   "name": "python",
   "nbconvert_exporter": "python",
   "pygments_lexer": "ipython3",
   "version": "3.8.3"
  }
 },
 "nbformat": 4,
 "nbformat_minor": 4
}
