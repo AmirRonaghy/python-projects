{
 "cells": [
  {
   "cell_type": "markdown",
   "metadata": {},
   "source": [
    "# Credit Card Validator"
   ]
  },
  {
   "cell_type": "markdown",
   "metadata": {},
   "source": [
    "Takes in a credit card number from a common credit card vendor (Visa, MasterCard, American Express, Discoverer) and validates it to make sure that it is a valid number (look into how credit cards use a checksum)."
   ]
  },
  {
   "cell_type": "code",
   "execution_count": 91,
   "metadata": {},
   "outputs": [],
   "source": [
    "def cc_validator():\n",
    "    \n",
    "    while True:\n",
    "\n",
    "        #Enter a credit card number\n",
    "        try:\n",
    "            cc_num = int(input(\"\\nPlease enter the credit card number: \"))\n",
    "        except:\n",
    "            print(\"\\nInvalid entry\")\n",
    "            continue            \n",
    "\n",
    "        #Convert integer to list of numbers\n",
    "        cc_num = [int(x) for x in str(cc_num)]\n",
    "        \n",
    "        #If card number < 15 digits, prompt user to reenter\n",
    "        #print(len(cc_num))\n",
    "        if len(cc_num) < 15 or len(cc_num) > 16:\n",
    "            print(\"\\nInvalid entry\")\n",
    "            continue\n",
    "        else:\n",
    "            pass\n",
    "\n",
    "        #Add a check digit placeholder 0 to the end\n",
    "        cc_num.append(0)\n",
    "\n",
    "        #Store sum digits in list\n",
    "        sum_digits = []\n",
    "\n",
    "        #Starting from right going left, add every odd digit to sum digits list\n",
    "        sum_digits.extend(cc_num[-1::-2])\n",
    "\n",
    "        #Starting from right going left, multiply every second digit by 2\n",
    "        for x in cc_num[-2::-2]:\n",
    "        #If result > 9, append sum digits of result to sum digits list (i.e., subract 9 from result)\n",
    "            if x*2 > 9:\n",
    "                sum_digits.append((x*2)-9)\n",
    "        #Else append result to sum digits list\n",
    "            else:\n",
    "                sum_digits.append(x*2)\n",
    "       \n",
    "        #Check digit x = sum of sum digits modulo 10\n",
    "        x = sum(sum_digits) % 10\n",
    "\n",
    "        print(sum(sum_digits))\n",
    "        print(x)\n",
    "\n",
    "        #If sum of sum digits + check digit is multiple of 10, then credit card number is valid\n",
    "        if (sum(sum_digits) + x) % 10 == 0:\n",
    "            print(\"\\nCredit card number has been validated\")\n",
    "        else:\n",
    "            print(\"\\nSorry, the credit card number is not valid\")\n",
    "            \n",
    "        break\n"
   ]
  },
  {
   "cell_type": "code",
   "execution_count": 92,
   "metadata": {},
   "outputs": [
    {
     "name": "stdin",
     "output_type": "stream",
     "text": [
      "\n",
      "Please enter the credit card number:  12345678123456751234567812345675\n"
     ]
    },
    {
     "name": "stdout",
     "output_type": "stream",
     "text": [
      "\n",
      "Invalid entry\n"
     ]
    },
    {
     "name": "stdin",
     "output_type": "stream",
     "text": [
      "\n",
      "Please enter the credit card number:  1234567812345675\n"
     ]
    },
    {
     "name": "stdout",
     "output_type": "stream",
     "text": [
      "70\n",
      "0\n",
      "\n",
      "Credit card number has been validated\n"
     ]
    }
   ],
   "source": [
    "cc_validator()"
   ]
  },
  {
   "cell_type": "code",
   "execution_count": null,
   "metadata": {},
   "outputs": [],
   "source": []
  }
 ],
 "metadata": {
  "kernelspec": {
   "display_name": "Python 3",
   "language": "python",
   "name": "python3"
  },
  "language_info": {
   "codemirror_mode": {
    "name": "ipython",
    "version": 3
   },
   "file_extension": ".py",
   "mimetype": "text/x-python",
   "name": "python",
   "nbconvert_exporter": "python",
   "pygments_lexer": "ipython3",
   "version": "3.8.3"
  }
 },
 "nbformat": 4,
 "nbformat_minor": 4
}
