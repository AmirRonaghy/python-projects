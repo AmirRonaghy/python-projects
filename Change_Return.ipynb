{
 "cells": [
  {
   "cell_type": "markdown",
   "metadata": {},
   "source": [
    "# Change Return Program"
   ]
  },
  {
   "cell_type": "markdown",
   "metadata": {},
   "source": [
    "The user enters a cost and then the amount of money given. The program will figure out the change and the number of quarters, dimes, nickels, pennies needed for the change."
   ]
  },
  {
   "cell_type": "code",
   "execution_count": 43,
   "metadata": {},
   "outputs": [
    {
     "name": "stdin",
     "output_type": "stream",
     "text": [
      "Enter the total cost:  44.36\n",
      "Enter the amount of cash paid:  50\n"
     ]
    },
    {
     "name": "stdout",
     "output_type": "stream",
     "text": [
      "\n",
      "The total change is $ 5.64 \n",
      "\n",
      "number of quarters: 2\n",
      "number of dimes: 1\n",
      "number of nickels: 0\n",
      "number of pennies: 4\n"
     ]
    }
   ],
   "source": [
    "import math\n",
    "from decimal import *\n",
    "\n",
    "#Ask user to enter total amount due and cash paid\n",
    "while True:\n",
    "    try:\n",
    "        cost = float(input(\"Enter the total cost: \"))\n",
    "        if cost <= 0:\n",
    "            print(\"Dollar amount above 0 required.\")\n",
    "            continue\n",
    "        else:\n",
    "            break\n",
    "    except:\n",
    "        print(\"Valid dollar amount required.\")\n",
    "\n",
    "while True:    \n",
    "    try:    \n",
    "        cash = float(input(\"Enter the amount of cash paid: \"))\n",
    "        if cash <= 0:\n",
    "            print(\"Dollar amount above 0 required.\")\n",
    "            continue\n",
    "        elif cash < cost:\n",
    "            print(\"Sorry, payment doesn't cover the cost.\")\n",
    "            continue\n",
    "        else:\n",
    "            break    \n",
    "    except:\n",
    "        print(\"Valid dollar amount required.\")\n",
    "        \n",
    "#Total amount of change\n",
    "change = round((cash - cost),2)\n",
    "\n",
    "#Value of coins to be used to calculate number of each type of coin\n",
    "coin_amount = round(change - math.floor(change),2)\n",
    "\n",
    "#Display the total amount of change due\n",
    "#Use quantize function to ensure change is displayed with 2 decimals\n",
    "print(\"\\nThe total change is $\",Decimal(change).quantize(Decimal('0.01')),\"\\n\")\n",
    "\n",
    "#Amount of change left after calculating value of each coin type in for loop\n",
    "change_left = coin_amount\n",
    "\n",
    "#Tuple to store coin types and their values\n",
    "coin_values = [('quarters', 0.25), ('dimes', 0.1), ('nickels', 0.05), ('pennies', 0.01)]\n",
    "\n",
    "#For each coin-value pair\n",
    "for x, y in coin_values:\n",
    "    \n",
    "    #Number of coins due -- rounded to lowest whole number\n",
    "    num = math.floor(change_left / y)\n",
    "    #Subtract value of coins from amount of change left\n",
    "    change_left = round((change_left - (y * num)),2)\n",
    "    #Display number of each coin type\n",
    "    print(f\"number of {x}: {num}\")\n"
   ]
  }
 ],
 "metadata": {
  "kernelspec": {
   "display_name": "Python 3",
   "language": "python",
   "name": "python3"
  },
  "language_info": {
   "codemirror_mode": {
    "name": "ipython",
    "version": 3
   },
   "file_extension": ".py",
   "mimetype": "text/x-python",
   "name": "python",
   "nbconvert_exporter": "python",
   "pygments_lexer": "ipython3",
   "version": "3.8.3"
  }
 },
 "nbformat": 4,
 "nbformat_minor": 4
}
