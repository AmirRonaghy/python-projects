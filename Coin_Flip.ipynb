{
 "cells": [
  {
   "cell_type": "markdown",
   "metadata": {},
   "source": [
    "# Coin Flip Simulation"
   ]
  },
  {
   "cell_type": "markdown",
   "metadata": {},
   "source": [
    "Write some code that simulates flipping a single coin however many times the user decides. The code should record the outcomes and count the number of tails and heads."
   ]
  },
  {
   "cell_type": "code",
   "execution_count": 21,
   "metadata": {},
   "outputs": [],
   "source": [
    "#Original version\n",
    "\n",
    "def coin_flip():\n",
    "\n",
    "    #Import random library\n",
    "    import random\n",
    "\n",
    "    #Coin flip represented by random selection of heads or tails\n",
    "    coin = [\"heads\",\"tails\"]\n",
    "\n",
    "    #Store coin flip results in a list\n",
    "    results = []\n",
    "\n",
    "    #Ask user to select number of coin flips\n",
    "    while True:\n",
    "        try:\n",
    "            num = int(input(\"How many tiles would you like to flip the coin? \"))\n",
    "\n",
    "            #Flip coin x number of times as determined by user\n",
    "            for x in [*range(num)]:\n",
    "\n",
    "                #Append coin flip results to results list\n",
    "                results.append(random.choice(coin))\n",
    "            \n",
    "            #Count numbers of heads and tails\n",
    "            print(\"Number of heads: \",results.count(\"heads\"))\n",
    "            print(\"Number of tails: \",results.count(\"tails\"))\n",
    "            break\n",
    "\n",
    "        except:\n",
    "            print(\"Please enter a valid number\")\n",
    "            continue "
   ]
  },
  {
   "cell_type": "code",
   "execution_count": 1,
   "metadata": {},
   "outputs": [],
   "source": [
    "#Alternative version with word to number translator\n",
    "\n",
    "def coin_flip():\n",
    "\n",
    "    #Import random library\n",
    "    import random\n",
    "    \n",
    "    #Import word to number library\n",
    "    from word2number import w2n\n",
    "\n",
    "    #Coin flip represented by random selection of heads or tails\n",
    "    coin = [\"heads\",\"tails\"]\n",
    "\n",
    "    #Store coin flip results in a list\n",
    "    results = []\n",
    "\n",
    "    #Ask user to select number of coin flips\n",
    "    while True:\n",
    "        try:\n",
    "            #Apply word to number translator to handle numbers written as words\n",
    "            num = w2n.word_to_num(input(\"How many tiles would you like to flip the coin? \"))\n",
    "\n",
    "            #Flip coin x number of times as determined by user\n",
    "            for x in [*range(num)]:\n",
    "\n",
    "                #Append coin flip results to results list\n",
    "                results.append(random.choice(coin))\n",
    "            \n",
    "            #Count numbers of heads and tails\n",
    "            print(\"Number of heads: \",results.count(\"heads\"))\n",
    "            print(\"Number of tails: \",results.count(\"tails\"))\n",
    "            break\n",
    "\n",
    "        except:\n",
    "            print(\"Please enter a valid number\")\n",
    "            continue "
   ]
  },
  {
   "cell_type": "code",
   "execution_count": 7,
   "metadata": {},
   "outputs": [
    {
     "name": "stdin",
     "output_type": "stream",
     "text": [
      "How many tiles would you like to flip the coin?  500\n"
     ]
    },
    {
     "name": "stdout",
     "output_type": "stream",
     "text": [
      "Number of heads:  251\n",
      "Number of tails:  249\n"
     ]
    }
   ],
   "source": [
    "coin_flip()"
   ]
  },
  {
   "cell_type": "code",
   "execution_count": null,
   "metadata": {},
   "outputs": [],
   "source": []
  }
 ],
 "metadata": {
  "kernelspec": {
   "display_name": "Python 3",
   "language": "python",
   "name": "python3"
  },
  "language_info": {
   "codemirror_mode": {
    "name": "ipython",
    "version": 3
   },
   "file_extension": ".py",
   "mimetype": "text/x-python",
   "name": "python",
   "nbconvert_exporter": "python",
   "pygments_lexer": "ipython3",
   "version": "3.8.3"
  }
 },
 "nbformat": 4,
 "nbformat_minor": 4
}
