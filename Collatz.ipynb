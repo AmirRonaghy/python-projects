{
 "cells": [
  {
   "cell_type": "markdown",
   "metadata": {},
   "source": [
    "# Collatz Conjecture"
   ]
  },
  {
   "cell_type": "markdown",
   "metadata": {},
   "source": [
    "Start with a number n > 1. Find the number of steps it takes to reach one using the following process: If n is even, divide it by 2. If n is odd, multiply it by 3 and add 1."
   ]
  },
  {
   "cell_type": "code",
   "execution_count": 35,
   "metadata": {},
   "outputs": [],
   "source": [
    "def collatz(num):\n",
    "    \n",
    "    try:\n",
    " \n",
    "        #Define x variable to count number of steps\n",
    "        count = 0\n",
    "\n",
    "        #While x is not equal to one, apply calculations to specified number\n",
    "        while num > 1:\n",
    "\n",
    "            #If number is even, divide it by 2\n",
    "            if num % 2 == 0:\n",
    "                num = num/2\n",
    "            #If number is odd, multiply it by 3 and add 1\n",
    "            else:\n",
    "                num = (num*3) + 1\n",
    "\n",
    "            #Increase count variable by 1 in each iteration\n",
    "            count += 1\n",
    "\n",
    "        #Display output at end of process\n",
    "        print(\"\\nNumber of steps needed to reach one:\", count)\n",
    "        \n",
    "    except:\n",
    "        print(\"Please enter a valid number.\")"
   ]
  },
  {
   "cell_type": "code",
   "execution_count": 36,
   "metadata": {},
   "outputs": [
    {
     "name": "stdout",
     "output_type": "stream",
     "text": [
      "\n",
      "Number of steps needed to reach one: 25\n"
     ]
    }
   ],
   "source": [
    "collatz(100)"
   ]
  }
 ],
 "metadata": {
  "kernelspec": {
   "display_name": "Python 3",
   "language": "python",
   "name": "python3"
  },
  "language_info": {
   "codemirror_mode": {
    "name": "ipython",
    "version": 3
   },
   "file_extension": ".py",
   "mimetype": "text/x-python",
   "name": "python",
   "nbconvert_exporter": "python",
   "pygments_lexer": "ipython3",
   "version": "3.8.3"
  }
 },
 "nbformat": 4,
 "nbformat_minor": 4
}
