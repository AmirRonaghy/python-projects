{
 "cells": [
  {
   "cell_type": "markdown",
   "metadata": {},
   "source": [
    "# Company Manager"
   ]
  },
  {
   "cell_type": "markdown",
   "metadata": {},
   "source": [
    "Create an hierarchy of classes - abstract class Employee and subclasses HourlyEmployee, SalariedEmployee, Manager and Executive. Every one's pay is calculated differently, research a bit about it. After you've established an employee hierarchy, create a Company class that allows you to manage the employees. You should be able to hire, fire and raise employees."
   ]
  },
  {
   "cell_type": "code",
   "execution_count": 2,
   "metadata": {},
   "outputs": [],
   "source": [
    "# Create base Employee class to serve as interface for all employee category subclasses\n",
    "class Employee:\n",
    "    \n",
    "    def __init__(self,name,ID):\n",
    "\n",
    "        self.name = name\n",
    "        self.ID = ID\n",
    "\n",
    "# Create Salaried Employee subclass that inherits from base Employee class\n",
    "# Serves as interface to Manager and Executive subclasses\n",
    "class SalariedEmployee(Employee):  \n",
    "  \n",
    "    # Add category and salary attributes with default values\n",
    "    def __init__(self,name,ID,category=\"Salaried Employee\",salary = 80000):\n",
    "        \n",
    "        super().__init__(name,ID)\n",
    "        self.category = category \n",
    "        self.salary = salary\n",
    "        \n",
    "# Create Hourly Employee subclass that inherits from base Employee class\n",
    "class HourlyEmployee(Employee):  \n",
    "    \n",
    "    # Add category, pay rate and hours worked attributes with default values\n",
    "    def __init__(self,name,ID,category=\"Hourly Employee\",rate = 50, hours_worked = 2000):\n",
    "        \n",
    "        super().__init__(name,ID)\n",
    "        self.category = category \n",
    "        self.rate = rate\n",
    "        self.hours_worked = hours_worked\n",
    "\n",
    "# Create Manager subclass that inherits from Salaried Employee subclass       \n",
    "class Manager(SalariedEmployee):  \n",
    "  \n",
    "    # Inherit all attributes from Salaried Employee but with different default values\n",
    "    def __init__(self,name,ID,category=\"Manager\",salary = 120000):        \n",
    "        \n",
    "        super().__init__(name,ID,category,salary)\n",
    "\n",
    "# Create Manager subclass that inherits from Salaried Employee subclass       \n",
    "class Executive(SalariedEmployee):  \n",
    "  \n",
    "    # Inherit all attributes from Salaried Employee but with different default values\n",
    "    def __init__(self,name,ID,category=\"Executive\",salary = 200000):        \n",
    "        \n",
    "        super().__init__(name,ID,category,salary)"
   ]
  },
  {
   "cell_type": "code",
   "execution_count": 60,
   "metadata": {},
   "outputs": [],
   "source": [
    "# Create Company class to manage employees\n",
    "class Company:\n",
    "   \n",
    "    # Include employee database as an attribute to store employee data\n",
    "    def __init__(self, company_name):\n",
    "\n",
    "        self.company_name = company_name\n",
    "        self.employee_db = []\n",
    "\n",
    "    # Method to hire employee in any of the salaried categories\n",
    "    def hire_employee(self,name,ID,category):\n",
    "        \n",
    "        # If employee name or ID are already in company DB, display error message        \n",
    "        if name in [record[\"name\"] for record in self.employee_db]:\n",
    "            print(\"This name already exists in the company database\")\n",
    "        \n",
    "        elif ID in [record[\"id\"] for record in self.employee_db]:\n",
    "            print(\"This ID already exists in the company database\")\n",
    "        \n",
    "        # Else add new employee record to company DB using method for selected category\n",
    "        else:\n",
    "            \n",
    "            if \"salaried\" in category.lower():\n",
    "            \n",
    "                # Create new Salaried Employee object with name and ID as attributes\n",
    "                new_employee = SalariedEmployee(name,ID)\n",
    "                \n",
    "                # Display confirmation message \n",
    "                print(f\"\\nNew employee added: \\n{' '} \\nName: {new_employee.name} \\nID: {new_employee.ID} \\nCategory: {new_employee.category} \\nIncome: {new_employee.salary}\")\n",
    "\n",
    "                # Add new employee's data to company DB\n",
    "                return self.employee_db.append({\"id\": new_employee.ID, \"name\": new_employee.name, \n",
    "                                           \"category\": new_employee.category, \"income\": new_employee.salary})\n",
    "\n",
    "            elif \"hourly\" in category.lower():\n",
    "            \n",
    "                # Create new Hourly Employee object with name and ID as attributes\n",
    "                new_employee = HourlyEmployee(name,ID)\n",
    "\n",
    "                # Display confirmation message \n",
    "                print(f\"\\nNew employee added: \\n{' '} \\nName: {new_employee.name} \\nID: {new_employee.ID} \\nCategory: {new_employee.category} \\nIncome: {new_employee.rate * new_employee.hours_worked}\")\n",
    "\n",
    "                # Add new employee's data to company DB\n",
    "                return self.employee_db.append({\"id\": new_employee.ID, \"name\": new_employee.name, \n",
    "                                                \"category\": new_employee.category, \n",
    "                                                \"income\": new_employee.rate * new_employee.hours_worked})   \n",
    "            \n",
    "            elif \"manager\" in category.lower():\n",
    "            \n",
    "                # Create new Salaried Employee object with name and ID as attributes\n",
    "                new_employee = Manager(name,ID)\n",
    "                \n",
    "                # Display confirmation message \n",
    "                print(f\"\\nNew employee added: \\n{' '} \\nName: {new_employee.name} \\nID: {new_employee.ID} \\nCategory: {new_employee.category} \\nIncome: {new_employee.salary}\")\n",
    "\n",
    "                # Add new employee's data to company DB\n",
    "                return self.employee_db.append({\"id\": new_employee.ID, \"name\": new_employee.name, \n",
    "                                           \"category\": new_employee.category, \"income\": new_employee.salary})                \n",
    "           \n",
    "            elif \"executive\" in category.lower():\n",
    "            \n",
    "                # Create new Salaried Employee object with name and ID as attributes\n",
    "                new_employee = Executive(name,ID)\n",
    "                \n",
    "                # Display confirmation message \n",
    "                print(f\"\\nNew employee added: \\n{' '} \\nName: {new_employee.name} \\nID: {new_employee.ID} \\nCategory: {new_employee.category} \\nIncome: {new_employee.salary}\")\n",
    "\n",
    "                # Add new employee's data to company DB\n",
    "                return self.employee_db.append({\"id\": new_employee.ID, \"name\": new_employee.name, \n",
    "                                           \"category\": new_employee.category, \"income\": new_employee.salary})\n",
    "            \n",
    "            else:\n",
    "                print(\"Please enter a valid category.\")\n",
    "    \n",
    "    # Method to remove a fired or resigned employee from the company DB\n",
    "    def remove_employee(self,name):       \n",
    "               \n",
    "        # Display error message if employee is not in DB\n",
    "        if name not in [record[\"name\"] for record in self.employee_db]:\n",
    "            print(\"No record for this employee in the company database.\") \n",
    "\n",
    "        else:\n",
    "\n",
    "            # Use list comprehension to update company DB to exclude record with given name\n",
    "            self.employee_db = [record for record in self.employee_db if record[\"name\"] != name]\n",
    "            print(f\"{name} has been removed from the company database.\")\n",
    "\n",
    "\n",
    "   # Method to raise salaried employee's salary \n",
    "    def raise_salary(self,name,salary):\n",
    "        \n",
    "        # Display error message if employee is not in DB\n",
    "        if name not in [record[\"name\"] for record in self.employee_db]:\n",
    "            print(\"No record for this employee in the company database.\") \n",
    "\n",
    "        else:            \n",
    "            \n",
    "            # Else search for index of record containing employee's name in DB\n",
    "            for i in range(len(self.employee_db)):\n",
    "\n",
    "                # If record contains employee's name, update record containing that name\n",
    "                if self.employee_db[i][\"name\"] == name:\n",
    "                    self.employee_db[i][\"income\"] = salary\n",
    "                    print(f\"{name}'s salary has been updated to {salary}\")\n",
    "                    \n",
    "           \n",
    "   # Method to change hourly employee's rate or hours\n",
    "    def adjust_hourly(self,name,rate,hours_worked):\n",
    "        \n",
    "        # Display error message if employee is not in DB\n",
    "        if name not in [record[\"name\"] for record in self.employee_db]:\n",
    "            print(\"No record for this employee in the company database.\") \n",
    "\n",
    "        else:            \n",
    "            \n",
    "            # Else search for index of record containing employee's name in DB\n",
    "            for i in range(len(self.employee_db)):\n",
    "\n",
    "                # If record contains employee's name, update record containing that name\n",
    "                if self.employee_db[i][\"name\"] == name:\n",
    "                    self.employee_db[i][\"income\"] = rate * hours_worked\n",
    "                    print(f\"{name}'s hourly rate is {rate} and annual work hours is {hours_worked}\")\n",
    "                    print(f\"{name}'s annual income will be {rate * hours_worked}\")\n",
    "                    \n",
    "    # Method to change employee's category \n",
    "    def change_category(self,name,category):\n",
    "        \n",
    "        # Display error message if employee is not in DB\n",
    "        if name not in [record[\"name\"] for record in self.employee_db]:\n",
    "            print(\"No record for this employee in the company database.\") \n",
    "\n",
    "        else:            \n",
    "            \n",
    "            # Else search for index of record containing employee's name in DB\n",
    "            for i in range(len(self.employee_db)):\n",
    "\n",
    "                # If record contains employee's name, update record containing that name\n",
    "                if self.employee_db[i][\"name\"] == name:\n",
    "                    self.employee_db[i][\"category\"] = category\n",
    "                    print(f\"{name}'s category has been updated to {category}\")"
   ]
  },
  {
   "cell_type": "code",
   "execution_count": 61,
   "metadata": {},
   "outputs": [],
   "source": [
    "ar_inc = Company(\"AR Inc\")"
   ]
  },
  {
   "cell_type": "code",
   "execution_count": 62,
   "metadata": {},
   "outputs": [
    {
     "name": "stdout",
     "output_type": "stream",
     "text": [
      "\n",
      "New employee added: \n",
      "  \n",
      "Name: Jon Lovitz \n",
      "ID: 1 \n",
      "Category: Salaried Employee \n",
      "Income: 80000\n"
     ]
    }
   ],
   "source": [
    "ar_inc.hire_employee(\"Jon Lovitz\",1,\"salaried\")"
   ]
  },
  {
   "cell_type": "code",
   "execution_count": 63,
   "metadata": {},
   "outputs": [
    {
     "name": "stdout",
     "output_type": "stream",
     "text": [
      "\n",
      "New employee added: \n",
      "  \n",
      "Name: Steve Bannon \n",
      "ID: 2 \n",
      "Category: Manager \n",
      "Income: 120000\n"
     ]
    }
   ],
   "source": [
    "ar_inc.hire_employee(\"Steve Bannon\",2,\"manager\")"
   ]
  },
  {
   "cell_type": "code",
   "execution_count": 64,
   "metadata": {},
   "outputs": [
    {
     "name": "stdout",
     "output_type": "stream",
     "text": [
      "\n",
      "New employee added: \n",
      "  \n",
      "Name: Stephen Miller \n",
      "ID: 3 \n",
      "Category: Hourly Employee \n",
      "Income: 100000\n"
     ]
    }
   ],
   "source": [
    "ar_inc.hire_employee(\"Stephen Miller\",3,\"hourly\")"
   ]
  },
  {
   "cell_type": "code",
   "execution_count": 65,
   "metadata": {},
   "outputs": [
    {
     "name": "stdout",
     "output_type": "stream",
     "text": [
      "Please enter a valid category.\n"
     ]
    }
   ],
   "source": [
    "ar_inc.hire_employee(\"Kevin Connelly\",4,\"exec\")"
   ]
  },
  {
   "cell_type": "code",
   "execution_count": 66,
   "metadata": {},
   "outputs": [
    {
     "name": "stdout",
     "output_type": "stream",
     "text": [
      "\n",
      "New employee added: \n",
      "  \n",
      "Name: Kevin Connelly \n",
      "ID: 4 \n",
      "Category: Executive \n",
      "Income: 200000\n"
     ]
    }
   ],
   "source": [
    "ar_inc.hire_employee(\"Kevin Connelly\",4,\"executive\")"
   ]
  },
  {
   "cell_type": "code",
   "execution_count": 67,
   "metadata": {},
   "outputs": [
    {
     "name": "stdout",
     "output_type": "stream",
     "text": [
      "This name already exists in the company database\n"
     ]
    }
   ],
   "source": [
    "ar_inc.hire_employee(\"Kevin Connelly\",5,\"executive\")"
   ]
  },
  {
   "cell_type": "code",
   "execution_count": 68,
   "metadata": {},
   "outputs": [
    {
     "name": "stdout",
     "output_type": "stream",
     "text": [
      "\n",
      "New employee added: \n",
      "  \n",
      "Name: Kevin Spacey \n",
      "ID: 5 \n",
      "Category: Salaried Employee \n",
      "Income: 80000\n"
     ]
    }
   ],
   "source": [
    "ar_inc.hire_employee(\"Kevin Spacey\",5,\"salaried\")"
   ]
  },
  {
   "cell_type": "code",
   "execution_count": 69,
   "metadata": {},
   "outputs": [
    {
     "name": "stdout",
     "output_type": "stream",
     "text": [
      "This ID already exists in the company database\n"
     ]
    }
   ],
   "source": [
    "ar_inc.hire_employee(\"Rudy Giuliani\",5,\"salaried\")"
   ]
  },
  {
   "cell_type": "code",
   "execution_count": 70,
   "metadata": {},
   "outputs": [
    {
     "name": "stdout",
     "output_type": "stream",
     "text": [
      "\n",
      "New employee added: \n",
      "  \n",
      "Name: Rudy Giuliani \n",
      "ID: 6 \n",
      "Category: Salaried Employee \n",
      "Income: 80000\n"
     ]
    }
   ],
   "source": [
    "ar_inc.hire_employee(\"Rudy Giuliani\",6,\"salaried\")"
   ]
  },
  {
   "cell_type": "code",
   "execution_count": 71,
   "metadata": {},
   "outputs": [
    {
     "data": {
      "text/plain": [
       "[{'id': 1,\n",
       "  'name': 'Jon Lovitz',\n",
       "  'category': 'Salaried Employee',\n",
       "  'income': 80000},\n",
       " {'id': 2, 'name': 'Steve Bannon', 'category': 'Manager', 'income': 120000},\n",
       " {'id': 3,\n",
       "  'name': 'Stephen Miller',\n",
       "  'category': 'Hourly Employee',\n",
       "  'income': 100000},\n",
       " {'id': 4,\n",
       "  'name': 'Kevin Connelly',\n",
       "  'category': 'Executive',\n",
       "  'income': 200000},\n",
       " {'id': 5,\n",
       "  'name': 'Kevin Spacey',\n",
       "  'category': 'Salaried Employee',\n",
       "  'income': 80000},\n",
       " {'id': 6,\n",
       "  'name': 'Rudy Giuliani',\n",
       "  'category': 'Salaried Employee',\n",
       "  'income': 80000}]"
      ]
     },
     "execution_count": 71,
     "metadata": {},
     "output_type": "execute_result"
    }
   ],
   "source": [
    "ar_inc.employee_db"
   ]
  },
  {
   "cell_type": "code",
   "execution_count": 72,
   "metadata": {},
   "outputs": [
    {
     "name": "stdout",
     "output_type": "stream",
     "text": [
      "Jon Lovitz's salary has been updated to 90000\n"
     ]
    }
   ],
   "source": [
    "ar_inc.raise_salary(\"Jon Lovitz\",90000)"
   ]
  },
  {
   "cell_type": "code",
   "execution_count": 73,
   "metadata": {},
   "outputs": [
    {
     "name": "stdout",
     "output_type": "stream",
     "text": [
      "Stephen Miller's hourly rate is 60 and annual work hours is 2000\n",
      "Stephen Miller's annual income will be 120000\n"
     ]
    }
   ],
   "source": [
    "ar_inc.adjust_hourly(\"Stephen Miller\",60,2000)"
   ]
  },
  {
   "cell_type": "code",
   "execution_count": 74,
   "metadata": {},
   "outputs": [
    {
     "data": {
      "text/plain": [
       "[{'id': 1,\n",
       "  'name': 'Jon Lovitz',\n",
       "  'category': 'Salaried Employee',\n",
       "  'income': 90000},\n",
       " {'id': 2, 'name': 'Steve Bannon', 'category': 'Manager', 'income': 120000},\n",
       " {'id': 3,\n",
       "  'name': 'Stephen Miller',\n",
       "  'category': 'Hourly Employee',\n",
       "  'income': 120000},\n",
       " {'id': 4,\n",
       "  'name': 'Kevin Connelly',\n",
       "  'category': 'Executive',\n",
       "  'income': 200000},\n",
       " {'id': 5,\n",
       "  'name': 'Kevin Spacey',\n",
       "  'category': 'Salaried Employee',\n",
       "  'income': 80000},\n",
       " {'id': 6,\n",
       "  'name': 'Rudy Giuliani',\n",
       "  'category': 'Salaried Employee',\n",
       "  'income': 80000}]"
      ]
     },
     "execution_count": 74,
     "metadata": {},
     "output_type": "execute_result"
    }
   ],
   "source": [
    "ar_inc.employee_db"
   ]
  },
  {
   "cell_type": "code",
   "execution_count": 75,
   "metadata": {},
   "outputs": [
    {
     "name": "stdout",
     "output_type": "stream",
     "text": [
      "No record for this employee in the company database.\n"
     ]
    }
   ],
   "source": [
    "ar_inc.remove_employee(\"Rody Giuliany\")"
   ]
  },
  {
   "cell_type": "code",
   "execution_count": 76,
   "metadata": {},
   "outputs": [
    {
     "name": "stdout",
     "output_type": "stream",
     "text": [
      "Rudy Giuliani has been removed from the company database.\n"
     ]
    }
   ],
   "source": [
    "ar_inc.remove_employee(\"Rudy Giuliani\")"
   ]
  },
  {
   "cell_type": "code",
   "execution_count": 77,
   "metadata": {},
   "outputs": [
    {
     "data": {
      "text/plain": [
       "[{'id': 1,\n",
       "  'name': 'Jon Lovitz',\n",
       "  'category': 'Salaried Employee',\n",
       "  'income': 90000},\n",
       " {'id': 2, 'name': 'Steve Bannon', 'category': 'Manager', 'income': 120000},\n",
       " {'id': 3,\n",
       "  'name': 'Stephen Miller',\n",
       "  'category': 'Hourly Employee',\n",
       "  'income': 120000},\n",
       " {'id': 4,\n",
       "  'name': 'Kevin Connelly',\n",
       "  'category': 'Executive',\n",
       "  'income': 200000},\n",
       " {'id': 5,\n",
       "  'name': 'Kevin Spacey',\n",
       "  'category': 'Salaried Employee',\n",
       "  'income': 80000}]"
      ]
     },
     "execution_count": 77,
     "metadata": {},
     "output_type": "execute_result"
    }
   ],
   "source": [
    "ar_inc.employee_db"
   ]
  },
  {
   "cell_type": "code",
   "execution_count": 78,
   "metadata": {},
   "outputs": [
    {
     "name": "stdout",
     "output_type": "stream",
     "text": [
      "No record for this employee in the company database.\n"
     ]
    }
   ],
   "source": [
    "ar_inc.raise_salary(\"Micky Mouse\",100000)"
   ]
  },
  {
   "cell_type": "code",
   "execution_count": 79,
   "metadata": {},
   "outputs": [
    {
     "name": "stdout",
     "output_type": "stream",
     "text": [
      "Stephen Miller's hourly rate is 60 and annual work hours is 1000\n",
      "Stephen Miller's annual income will be 60000\n"
     ]
    }
   ],
   "source": [
    "ar_inc.adjust_hourly(\"Stephen Miller\",60,1000)"
   ]
  },
  {
   "cell_type": "code",
   "execution_count": 80,
   "metadata": {},
   "outputs": [
    {
     "data": {
      "text/plain": [
       "[{'id': 1,\n",
       "  'name': 'Jon Lovitz',\n",
       "  'category': 'Salaried Employee',\n",
       "  'income': 90000},\n",
       " {'id': 2, 'name': 'Steve Bannon', 'category': 'Manager', 'income': 120000},\n",
       " {'id': 3,\n",
       "  'name': 'Stephen Miller',\n",
       "  'category': 'Hourly Employee',\n",
       "  'income': 60000},\n",
       " {'id': 4,\n",
       "  'name': 'Kevin Connelly',\n",
       "  'category': 'Executive',\n",
       "  'income': 200000},\n",
       " {'id': 5,\n",
       "  'name': 'Kevin Spacey',\n",
       "  'category': 'Salaried Employee',\n",
       "  'income': 80000}]"
      ]
     },
     "execution_count": 80,
     "metadata": {},
     "output_type": "execute_result"
    }
   ],
   "source": [
    "ar_inc.employee_db"
   ]
  },
  {
   "cell_type": "code",
   "execution_count": 82,
   "metadata": {},
   "outputs": [
    {
     "name": "stdout",
     "output_type": "stream",
     "text": [
      "Jon Lovitz's category has been updated to Manager\n"
     ]
    }
   ],
   "source": [
    "ar_inc.change_category(\"Jon Lovitz\",\"Manager\")"
   ]
  },
  {
   "cell_type": "code",
   "execution_count": 83,
   "metadata": {},
   "outputs": [
    {
     "data": {
      "text/plain": [
       "[{'id': 1, 'name': 'Jon Lovitz', 'category': 'Manager', 'income': 90000},\n",
       " {'id': 2, 'name': 'Steve Bannon', 'category': 'Manager', 'income': 120000},\n",
       " {'id': 3,\n",
       "  'name': 'Stephen Miller',\n",
       "  'category': 'Hourly Employee',\n",
       "  'income': 60000},\n",
       " {'id': 4,\n",
       "  'name': 'Kevin Connelly',\n",
       "  'category': 'Executive',\n",
       "  'income': 200000},\n",
       " {'id': 5,\n",
       "  'name': 'Kevin Spacey',\n",
       "  'category': 'Salaried Employee',\n",
       "  'income': 80000}]"
      ]
     },
     "execution_count": 83,
     "metadata": {},
     "output_type": "execute_result"
    }
   ],
   "source": [
    "ar_inc.employee_db"
   ]
  },
  {
   "cell_type": "code",
   "execution_count": null,
   "metadata": {},
   "outputs": [],
   "source": []
  }
 ],
 "metadata": {
  "kernelspec": {
   "display_name": "Python 3",
   "language": "python",
   "name": "python3"
  },
  "language_info": {
   "codemirror_mode": {
    "name": "ipython",
    "version": 3
   },
   "file_extension": ".py",
   "mimetype": "text/x-python",
   "name": "python",
   "nbconvert_exporter": "python",
   "pygments_lexer": "ipython3",
   "version": "3.8.3"
  }
 },
 "nbformat": 4,
 "nbformat_minor": 4
}
