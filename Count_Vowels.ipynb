{
 "cells": [
  {
   "cell_type": "markdown",
   "metadata": {},
   "source": [
    "# Count Vowels"
   ]
  },
  {
   "cell_type": "markdown",
   "metadata": {},
   "source": [
    " Enter a string and the program counts the number of vowels in the text. For added complexity have it report a sum of each vowel found."
   ]
  },
  {
   "cell_type": "code",
   "execution_count": 4,
   "metadata": {},
   "outputs": [],
   "source": [
    "def countVowels():\n",
    "\n",
    "    # Ask user to enter the text\n",
    "    text = input(\"Enter the text: \")\n",
    "\n",
    "    # Convert the text to lower case\n",
    "    text = text.lower()\n",
    "\n",
    "    # Split text into list of letters\n",
    "    letters = [l for l in text]\n",
    "\n",
    "    # Find the number of vowels in the text\n",
    "    vowels = ['a','e','i','o','u']\n",
    "\n",
    "    num_vowels = 0\n",
    "\n",
    "    for l in letters:\n",
    "        if l in vowels:\n",
    "            num_vowels += 1\n",
    "\n",
    "    # Display total number of vowels\n",
    "    print(\"\\nTotal number of vowels: \",num_vowels)\n",
    "\n",
    "    # Report of number of each vowel found\n",
    "    print(\"\\nNumber of A's found: \",letters.count('a'))\n",
    "    print(\"Number of E's found: \",letters.count('e'))\n",
    "    print(\"Number of I's found: \",letters.count('i'))\n",
    "    print(\"Number of O's found: \",letters.count('o'))\n",
    "    print(\"Number of U's found: \",letters.count('u'))\n"
   ]
  },
  {
   "cell_type": "code",
   "execution_count": 5,
   "metadata": {},
   "outputs": [
    {
     "name": "stdin",
     "output_type": "stream",
     "text": [
      "Enter the text:  Hello world. This is a string of text.\n"
     ]
    },
    {
     "name": "stdout",
     "output_type": "stream",
     "text": [
      "\n",
      "Total number of vowels:  9\n",
      "\n",
      "Number of A's found:  1\n",
      "Number of E's found:  2\n",
      "Number of I's found:  3\n",
      "Number of O's found:  3\n",
      "Number of U's found:  0\n"
     ]
    }
   ],
   "source": [
    "countVowels()"
   ]
  },
  {
   "cell_type": "code",
   "execution_count": null,
   "metadata": {},
   "outputs": [],
   "source": []
  }
 ],
 "metadata": {
  "kernelspec": {
   "display_name": "Python 3",
   "language": "python",
   "name": "python3"
  },
  "language_info": {
   "codemirror_mode": {
    "name": "ipython",
    "version": 3
   },
   "file_extension": ".py",
   "mimetype": "text/x-python",
   "name": "python",
   "nbconvert_exporter": "python",
   "pygments_lexer": "ipython3",
   "version": "3.8.3"
  }
 },
 "nbformat": 4,
 "nbformat_minor": 4
}
