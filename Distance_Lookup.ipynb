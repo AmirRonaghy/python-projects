{
 "cells": [
  {
   "cell_type": "markdown",
   "metadata": {},
   "source": [
    "# Distance Between Two Cities"
   ]
  },
  {
   "cell_type": "markdown",
   "metadata": {},
   "source": [
    "Calculates the distance between two cities and allows the user to specify a unit of distance. This program may require finding coordinates for the cities like latitude and longitude."
   ]
  },
  {
   "cell_type": "code",
   "execution_count": 24,
   "metadata": {},
   "outputs": [],
   "source": [
    "def find_distance(): \n",
    "        \n",
    "    while True:\n",
    "\n",
    "        #Import geopy library\n",
    "        import geopy\n",
    "\n",
    "        #Import Nominatim API for city lookups\n",
    "        from geopy.geocoders import Nominatim\n",
    "\n",
    "        #Import geodesic API to calculate distances\n",
    "        from geopy.distance import geodesic\n",
    "\n",
    "        #Definte geolocator variable for use in geocode function\n",
    "        geolocator = Nominatim(user_agent=\"enter_city\")\n",
    "        \n",
    "        #Prompt user to enter first city\n",
    "        while True:\n",
    "            try:\n",
    "                city1 = input(\"\\nPlease enter the first city: \")\n",
    "                #Retrieve geographic data for first city\n",
    "                location1 = geolocator.geocode(city1)\n",
    "                #Display location\n",
    "                print(location1[0])\n",
    "                break\n",
    "            except:\n",
    "                print(\"\\nSorry, that is not a valid city.\")\n",
    "                continue    \n",
    "\n",
    "        #Prompt user to enter second city\n",
    "        while True:\n",
    "            try:\n",
    "                city2 = input(\"\\nPlease enter the second city: \")\n",
    "                #Retrieve geographic data for second city\n",
    "                location2 = geolocator.geocode(city2)\n",
    "                #Display location\n",
    "                print(location2[0])\n",
    "                break\n",
    "            except:\n",
    "                print(\"\\nSorry, that is not a valid city.\")\n",
    "                continue        \n",
    "\n",
    "        #Confirm selection\n",
    "        while True:\n",
    "            confirm = input(\"\\nAre these the correct cities? \")\n",
    "            if confirm[0].lower() not in ['n','y']:\n",
    "                print(\"\\nSorry, I didn't understand.\")\n",
    "                continue\n",
    "            else:\n",
    "                break\n",
    "        if confirm[0].lower() == 'n':\n",
    "            print(\"\\nOkay, let's start over.\")\n",
    "            continue\n",
    "        elif confirm[0].lower() == 'y':        \n",
    "            pass              \n",
    "\n",
    "        #Prompt user to specify unit of measurement\n",
    "        unit = input(\"\\nPlease enter the unit of measurement: \")\n",
    "\n",
    "        #Store coordinates in variables to be passed into geodesic function\n",
    "        coor1 = location1.latitude, location1.longitude\n",
    "        coor2 = location2.latitude, location2.longitude\n",
    "\n",
    "        #Display distance in selected unit of measurement:    \n",
    "        if unit in ['kilometer','kilometers','km']:\n",
    "            print(\"\\nThe distance is\",round(geodesic(coor1,coor2).km,2),\"kilometers.\") \n",
    "            break\n",
    "        elif unit in ['mile','miles','mi']:\n",
    "            print(\"\\nThe distance is\",round(geodesic(coor1,coor2).miles,2),\"miles.\")\n",
    "            break\n",
    "        elif unit in ['meter','meters','m']:\n",
    "            print(\"\\nThe distance is \",round(geodesic(coor1,coor2).meters,2),\"meters.\")\n",
    "            break\n",
    "        elif unit in ['foot','feet','ft']:\n",
    "            print(\"\\nThe distance is \",round(geodesic(coor1,coor2).ft,2),\"feet.\")\n",
    "            break\n",
    "        else:\n",
    "            print(\"\\nSorry, I didn't understand.\")\n",
    "            continue\n",
    "        \n",
    "        "
   ]
  },
  {
   "cell_type": "code",
   "execution_count": 26,
   "metadata": {},
   "outputs": [
    {
     "name": "stdin",
     "output_type": "stream",
     "text": [
      "\n",
      "Please enter the first city:  denver\n"
     ]
    },
    {
     "name": "stdout",
     "output_type": "stream",
     "text": [
      "Denver, Denver County, Colorado, United States of America\n"
     ]
    },
    {
     "name": "stdin",
     "output_type": "stream",
     "text": [
      "\n",
      "Please enter the second city:  sd\n"
     ]
    },
    {
     "name": "stdout",
     "output_type": "stream",
     "text": [
      "السودان\n"
     ]
    },
    {
     "name": "stdin",
     "output_type": "stream",
     "text": [
      "\n",
      "Are these the correct cities?  x\n"
     ]
    },
    {
     "name": "stdout",
     "output_type": "stream",
     "text": [
      "\n",
      "Sorry, I didn't understand.\n"
     ]
    },
    {
     "name": "stdin",
     "output_type": "stream",
     "text": [
      "\n",
      "Are these the correct cities?  n\n"
     ]
    },
    {
     "name": "stdout",
     "output_type": "stream",
     "text": [
      "\n",
      "Okay, let's start over.\n"
     ]
    },
    {
     "name": "stdin",
     "output_type": "stream",
     "text": [
      "\n",
      "Please enter the first city:  denver\n"
     ]
    },
    {
     "name": "stdout",
     "output_type": "stream",
     "text": [
      "Denver, Denver County, Colorado, United States of America\n"
     ]
    },
    {
     "name": "stdin",
     "output_type": "stream",
     "text": [
      "\n",
      "Please enter the second city:  san diego\n"
     ]
    },
    {
     "name": "stdout",
     "output_type": "stream",
     "text": [
      "San Diego, San Diego County, California, United States of America\n"
     ]
    },
    {
     "name": "stdin",
     "output_type": "stream",
     "text": [
      "\n",
      "Are these the correct cities?  y\n",
      "\n",
      "Please enter the unit of measurement:  mi\n"
     ]
    },
    {
     "name": "stdout",
     "output_type": "stream",
     "text": [
      "\n",
      "The distance is 833.72 miles.\n"
     ]
    }
   ],
   "source": [
    "find_distance()"
   ]
  },
  {
   "cell_type": "code",
   "execution_count": null,
   "metadata": {},
   "outputs": [],
   "source": []
  }
 ],
 "metadata": {
  "kernelspec": {
   "display_name": "Python 3",
   "language": "python",
   "name": "python3"
  },
  "language_info": {
   "codemirror_mode": {
    "name": "ipython",
    "version": 3
   },
   "file_extension": ".py",
   "mimetype": "text/x-python",
   "name": "python",
   "nbconvert_exporter": "python",
   "pygments_lexer": "ipython3",
   "version": "3.8.3"
  }
 },
 "nbformat": 4,
 "nbformat_minor": 4
}
