{
 "cells": [
  {
   "cell_type": "markdown",
   "metadata": {},
   "source": [
    "# Factorial Finder"
   ]
  },
  {
   "cell_type": "markdown",
   "metadata": {},
   "source": [
    "The Factorial of a positive integer, n, is defined as the product of the sequence n, n-1, n-2, ...1 and the factorial of zero, 0, is defined as being 1. Solve this using both loops and recursion."
   ]
  },
  {
   "cell_type": "code",
   "execution_count": 6,
   "metadata": {},
   "outputs": [],
   "source": [
    "#Using a for loop\n",
    "\n",
    "def factorial():    \n",
    "    \n",
    "    while True:\n",
    "        \n",
    "        #Define multiplier variable to calculate factorial\n",
    "        factorial = 1\n",
    "            \n",
    "        #Prompt user to enter a number\n",
    "        try:\n",
    "            num = int(input(\"\\nEnter a number above 0: \"))\n",
    "            if num < 0:\n",
    "                print(\"\\nCannot calculate factorial of negative number\")\n",
    "                continue\n",
    "            elif num == 0:\n",
    "                break\n",
    "            else:\n",
    "                pass\n",
    "        except:\n",
    "            print(\"\\nInvalid entry\")\n",
    "            continue\n",
    "\n",
    "       \n",
    "        #For each value x in range of specified number\n",
    "        #Multiply first value x by next number in range\n",
    "        #Then keep multiplying product by next value of x until end of range\n",
    "        for x in [*range(1,num+1)]:\n",
    "            factorial *= x\n",
    "            \n",
    "        break\n",
    "        \n",
    "    print(\"\\nThe factorial of {} is {}\".format(num,factorial))   \n",
    "           "
   ]
  },
  {
   "cell_type": "code",
   "execution_count": 9,
   "metadata": {},
   "outputs": [
    {
     "name": "stdin",
     "output_type": "stream",
     "text": [
      "\n",
      "Enter a number above 0:  -100\n"
     ]
    },
    {
     "name": "stdout",
     "output_type": "stream",
     "text": [
      "\n",
      "Cannot calculate factorial of negative number\n"
     ]
    },
    {
     "name": "stdin",
     "output_type": "stream",
     "text": [
      "\n",
      "Enter a number above 0:  ten\n"
     ]
    },
    {
     "name": "stdout",
     "output_type": "stream",
     "text": [
      "\n",
      "Invalid entry\n"
     ]
    },
    {
     "name": "stdin",
     "output_type": "stream",
     "text": [
      "\n",
      "Enter a number above 0:  100\n"
     ]
    },
    {
     "name": "stdout",
     "output_type": "stream",
     "text": [
      "\n",
      "The factorial of 100 is 93326215443944152681699238856266700490715968264381621468592963895217599993229915608941463976156518286253697920827223758251185210916864000000000000000000000000\n"
     ]
    }
   ],
   "source": [
    "factorial()"
   ]
  },
  {
   "cell_type": "code",
   "execution_count": 29,
   "metadata": {},
   "outputs": [],
   "source": [
    "# Recursive function \n",
    "# Taken from https://www.geeksforgeeks.org/recursion-in-python/\n",
    "\n",
    "def recursive_factorial(n):\n",
    "    \n",
    "    if n == 1:\n",
    "        return n   \n",
    "    elif n == 0:   \n",
    "        print(\"Factorial of number 0 is 1\")   \n",
    "    else:   \n",
    "        try:\n",
    "            return n * recursive_factorial(n-1) \n",
    "        except:\n",
    "            print(\"Invalid input\")\n",
    "    "
   ]
  },
  {
   "cell_type": "code",
   "execution_count": 30,
   "metadata": {},
   "outputs": [
    {
     "data": {
      "text/plain": [
       "362880"
      ]
     },
     "execution_count": 30,
     "metadata": {},
     "output_type": "execute_result"
    }
   ],
   "source": [
    "recursive_factorial(9)"
   ]
  }
 ],
 "metadata": {
  "kernelspec": {
   "display_name": "Python 3",
   "language": "python",
   "name": "python3"
  },
  "language_info": {
   "codemirror_mode": {
    "name": "ipython",
    "version": 3
   },
   "file_extension": ".py",
   "mimetype": "text/x-python",
   "name": "python",
   "nbconvert_exporter": "python",
   "pygments_lexer": "ipython3",
   "version": "3.8.3"
  }
 },
 "nbformat": 4,
 "nbformat_minor": 4
}
