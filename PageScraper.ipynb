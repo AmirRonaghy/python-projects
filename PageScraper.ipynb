{
 "cells": [
  {
   "cell_type": "markdown",
   "metadata": {},
   "source": [
    "# Page Scraper"
   ]
  },
  {
   "cell_type": "markdown",
   "metadata": {},
   "source": [
    "Create an application which connects to a site and pulls out all links, or images, and saves them to a list. "
   ]
  },
  {
   "cell_type": "code",
   "execution_count": 1,
   "metadata": {},
   "outputs": [],
   "source": [
    "# Import requests and beautiful soup libraries\n",
    "import requests\n",
    "import bs4"
   ]
  },
  {
   "cell_type": "code",
   "execution_count": 2,
   "metadata": {},
   "outputs": [],
   "source": [
    "# Extract web page HTML\n",
    "res = requests.get('https://books.toscrape.com/')"
   ]
  },
  {
   "cell_type": "code",
   "execution_count": 3,
   "metadata": {},
   "outputs": [],
   "source": [
    "# Create soup object for web page contents\n",
    "soup = bs4.BeautifulSoup(res.text, \"lxml\")"
   ]
  },
  {
   "cell_type": "code",
   "execution_count": 4,
   "metadata": {},
   "outputs": [
    {
     "data": {
      "text/plain": [
       "<article class=\"product_pod\">\n",
       "<div class=\"image_container\">\n",
       "<a href=\"catalogue/a-light-in-the-attic_1000/index.html\"><img alt=\"A Light in the Attic\" class=\"thumbnail\" src=\"media/cache/2c/da/2cdad67c44b002e7ead0cc35693c0e8b.jpg\"/></a>\n",
       "</div>\n",
       "<p class=\"star-rating Three\">\n",
       "<i class=\"icon-star\"></i>\n",
       "<i class=\"icon-star\"></i>\n",
       "<i class=\"icon-star\"></i>\n",
       "<i class=\"icon-star\"></i>\n",
       "<i class=\"icon-star\"></i>\n",
       "</p>\n",
       "<h3><a href=\"catalogue/a-light-in-the-attic_1000/index.html\" title=\"A Light in the Attic\">A Light in the ...</a></h3>\n",
       "<div class=\"product_price\">\n",
       "<p class=\"price_color\">Â£51.77</p>\n",
       "<p class=\"instock availability\">\n",
       "<i class=\"icon-ok\"></i>\n",
       "    \n",
       "        In stock\n",
       "    \n",
       "</p>\n",
       "<form>\n",
       "<button class=\"btn btn-primary btn-block\" data-loading-text=\"Adding...\" type=\"submit\">Add to basket</button>\n",
       "</form>\n",
       "</div>\n",
       "</article>"
      ]
     },
     "execution_count": 4,
     "metadata": {},
     "output_type": "execute_result"
    }
   ],
   "source": [
    "# Show sample HTML element with CSS class of \"product_pod\"\n",
    "# Contains info for each book displayed on website\n",
    "soup.select('.product_pod')[0]"
   ]
  },
  {
   "cell_type": "code",
   "execution_count": 5,
   "metadata": {},
   "outputs": [
    {
     "data": {
      "text/plain": [
       "<img alt=\"A Light in the Attic\" class=\"thumbnail\" src=\"media/cache/2c/da/2cdad67c44b002e7ead0cc35693c0e8b.jpg\"/>"
      ]
     },
     "execution_count": 5,
     "metadata": {},
     "output_type": "execute_result"
    }
   ],
   "source": [
    "# Show sample thumbnail class\n",
    "soup.select('.thumbnail')[0]"
   ]
  },
  {
   "cell_type": "code",
   "execution_count": 6,
   "metadata": {},
   "outputs": [],
   "source": [
    "image1 = soup.select('.thumbnail')[0]"
   ]
  },
  {
   "cell_type": "code",
   "execution_count": 7,
   "metadata": {},
   "outputs": [
    {
     "data": {
      "text/plain": [
       "'media/cache/2c/da/2cdad67c44b002e7ead0cc35693c0e8b.jpg'"
      ]
     },
     "execution_count": 7,
     "metadata": {},
     "output_type": "execute_result"
    }
   ],
   "source": [
    "# Show image source (URL) of sample image\n",
    "image1['src']"
   ]
  },
  {
   "cell_type": "code",
   "execution_count": 16,
   "metadata": {},
   "outputs": [],
   "source": [
    "#Store image source as variable\n",
    "image1 = soup.select('.thumbnail')[0]['src']"
   ]
  },
  {
   "cell_type": "code",
   "execution_count": 17,
   "metadata": {},
   "outputs": [
    {
     "data": {
      "text/plain": [
       "'media/cache/2c/da/2cdad67c44b002e7ead0cc35693c0e8b.jpg'"
      ]
     },
     "execution_count": 17,
     "metadata": {},
     "output_type": "execute_result"
    }
   ],
   "source": [
    "image1"
   ]
  },
  {
   "cell_type": "code",
   "execution_count": 18,
   "metadata": {},
   "outputs": [],
   "source": [
    "url_stem = 'https://books.toscrape.com/'\n",
    "\n",
    "image_url = url_stem + image1"
   ]
  },
  {
   "cell_type": "code",
   "execution_count": 19,
   "metadata": {},
   "outputs": [
    {
     "data": {
      "text/plain": [
       "'https://books.toscrape.com/media/cache/2c/da/2cdad67c44b002e7ead0cc35693c0e8b.jpg'"
      ]
     },
     "execution_count": 19,
     "metadata": {},
     "output_type": "execute_result"
    }
   ],
   "source": [
    "image_url"
   ]
  },
  {
   "cell_type": "code",
   "execution_count": 20,
   "metadata": {},
   "outputs": [],
   "source": [
    "# Create list of image URLs from first page\n",
    "\n",
    "# Store book elements as variable\n",
    "books = soup.select('.product_pod')\n",
    "\n",
    "# Store image URLs in list\n",
    "images = []\n",
    "\n",
    "# URL stem to which image source will be concatenated\n",
    "url_stem = \"https://books.toscrape.com/\"\n",
    "\n",
    "# If book has 5 star rating, add image URL to list\n",
    "# Concatenate \"to scrape\" URL stem and image source for image\n",
    "for book in books:\n",
    "    if len(book.select('.star-rating.Five')) > 0:\n",
    "        images.append(url_stem + book.select('.thumbnail')[0]['src'])    "
   ]
  },
  {
   "cell_type": "code",
   "execution_count": 21,
   "metadata": {},
   "outputs": [
    {
     "data": {
      "text/plain": [
       "4"
      ]
     },
     "execution_count": 21,
     "metadata": {},
     "output_type": "execute_result"
    }
   ],
   "source": [
    "len(images)"
   ]
  },
  {
   "cell_type": "code",
   "execution_count": 22,
   "metadata": {},
   "outputs": [
    {
     "data": {
      "text/plain": [
       "['https://books.toscrape.com/media/cache/be/a5/bea5697f2534a2f86a3ef27b5a8c12a6.jpg',\n",
       " 'https://books.toscrape.com/media/cache/5b/88/5b88c52633f53cacf162c15f4f823153.jpg',\n",
       " 'https://books.toscrape.com/media/cache/94/b1/94b1b8b244bce9677c2f29ccc890d4d2.jpg',\n",
       " 'https://books.toscrape.com/media/cache/81/c4/81c4a973364e17d01f217e1188253d5e.jpg']"
      ]
     },
     "execution_count": 22,
     "metadata": {},
     "output_type": "execute_result"
    }
   ],
   "source": [
    "images"
   ]
  },
  {
   "cell_type": "code",
   "execution_count": 23,
   "metadata": {},
   "outputs": [],
   "source": [
    "# Modify code to iterate through all pages and grab image URLs from each page\n",
    "# This version iterates through fixed number of pages\n",
    "\n",
    "# Store image URLs in list\n",
    "images = []\n",
    "\n",
    "# Create base URL with placeholder for page numbers\n",
    "base_url = \"https://books.toscrape.com/catalogue/page-{}.html\"\n",
    "\n",
    "# URL stem to which image source will be concatenated\n",
    "url_stem = \"https://books.toscrape.com/\"\n",
    "\n",
    "for n in range(1,51):\n",
    "\n",
    "    # Extract contents of each page\n",
    "    res = requests.get(base_url.format(n))\n",
    "    \n",
    "    # Store all HTML contents in soup object\n",
    "    soup = bs4.BeautifulSoup(res.text,\"lxml\")\n",
    "\n",
    "    # Store book elements in a separate object\n",
    "    books = soup.select('.product_pod')\n",
    "\n",
    "    # If book has 5 star rating, add image URL to list\n",
    "    # Concatenate \"to scrape\" URL stem and image source for image\n",
    "    for book in books:\n",
    "        if len(book.select('.star-rating.Five')) > 0:\n",
    "            images.append(url_stem + book.select('.thumbnail')[0]['src'])      \n"
   ]
  },
  {
   "cell_type": "code",
   "execution_count": 24,
   "metadata": {},
   "outputs": [
    {
     "data": {
      "text/plain": [
       "196"
      ]
     },
     "execution_count": 24,
     "metadata": {},
     "output_type": "execute_result"
    }
   ],
   "source": [
    "len(images)"
   ]
  },
  {
   "cell_type": "code",
   "execution_count": 25,
   "metadata": {},
   "outputs": [
    {
     "data": {
      "text/plain": [
       "['https://books.toscrape.com/../media/cache/be/a5/bea5697f2534a2f86a3ef27b5a8c12a6.jpg',\n",
       " 'https://books.toscrape.com/../media/cache/5b/88/5b88c52633f53cacf162c15f4f823153.jpg',\n",
       " 'https://books.toscrape.com/../media/cache/94/b1/94b1b8b244bce9677c2f29ccc890d4d2.jpg',\n",
       " 'https://books.toscrape.com/../media/cache/81/c4/81c4a973364e17d01f217e1188253d5e.jpg',\n",
       " 'https://books.toscrape.com/../media/cache/9c/2e/9c2e0eb8866b8e3f3b768994fd3d1c1a.jpg',\n",
       " 'https://books.toscrape.com/../media/cache/44/cc/44ccc99c8f82c33d4f9d2afa4ef25787.jpg',\n",
       " 'https://books.toscrape.com/../media/cache/2e/98/2e98c332bf8563b584784971541c4445.jpg',\n",
       " 'https://books.toscrape.com/../media/cache/0f/7e/0f7ee69495c0df1d35723f012624a9f8.jpg',\n",
       " 'https://books.toscrape.com/../media/cache/5d/7e/5d7ecde8e81513eba8a64c9fe000744b.jpg',\n",
       " 'https://books.toscrape.com/../media/cache/65/71/6571919836ec51ed54f0050c31d8a0cd.jpg']"
      ]
     },
     "execution_count": 25,
     "metadata": {},
     "output_type": "execute_result"
    }
   ],
   "source": [
    "images[:10]"
   ]
  },
  {
   "cell_type": "code",
   "execution_count": 26,
   "metadata": {},
   "outputs": [
    {
     "data": {
      "text/plain": [
       "'<html>\\r\\n<head><title>404 Not Found</title></head>\\r\\n<body bgcolor=\"white\">\\r\\n<center><h1>404 Not Found</h1></center>\\r\\n<hr><center>nginx/1.1.19</center>\\r\\n</body>\\r\\n</html>\\r\\n'"
      ]
     },
     "execution_count": 26,
     "metadata": {},
     "output_type": "execute_result"
    }
   ],
   "source": [
    "# Program should ideally be flexible enough to account for any pages that might be added to website\n",
    "\n",
    "# Create base URL with placeholder for page numbers\n",
    "base_url = \"https://books.toscrape.com/catalogue/page-{}.html\"\n",
    "\n",
    "# Test to see what happens when attempting to query nonexistent page\n",
    "res = requests.get(base_url.format(10000))\n",
    "res.text"
   ]
  },
  {
   "cell_type": "code",
   "execution_count": 27,
   "metadata": {},
   "outputs": [
    {
     "data": {
      "text/plain": [
       "True"
      ]
     },
     "execution_count": 27,
     "metadata": {},
     "output_type": "execute_result"
    }
   ],
   "source": [
    "\"404 Not Found\" in res.text"
   ]
  },
  {
   "cell_type": "code",
   "execution_count": 28,
   "metadata": {},
   "outputs": [],
   "source": [
    "# This version iterates through all pages until it has reached the last pages\n",
    "# Rather than using fixed page number, this version uses a while loop that breaks when encountering a 404 error\n",
    "\n",
    "# Store image URLs in list\n",
    "images = []\n",
    "\n",
    "# Create base URL with placeholder for page numbers\n",
    "base_url = \"https://books.toscrape.com/catalogue/page-{}.html\"\n",
    "\n",
    "# URL stem to which image source will be concatenated\n",
    "url_stem = \"https://books.toscrape.com/\"\n",
    "\n",
    "# Create variable for page numbers\n",
    "page_num = 1\n",
    "\n",
    "# Use while loop to keep searching through pages until 404 error is triggered\n",
    "searching = True\n",
    "\n",
    "while searching:\n",
    "\n",
    "    # Extract contents of each page\n",
    "    res = requests.get(base_url.format(page_num))\n",
    "    \n",
    "    # Stop searching upon 404 error \n",
    "    if \"404 Not Found\" in res.text:\n",
    "        break\n",
    "    \n",
    "    else:    \n",
    "    \n",
    "        # Store all HTML contents in soup object\n",
    "        soup = bs4.BeautifulSoup(res.text,\"lxml\")\n",
    "    \n",
    "        # Store book elements in a separate object\n",
    "        books = soup.select('.product_pod')\n",
    "\n",
    "        # If book has 5 star rating, add image URL to list\n",
    "        # Concatenate \"to scrape\" URL stem and image source for image\n",
    "        for book in books:\n",
    "            if len(book.select('.star-rating.Five')) > 0:\n",
    "                images.append(url_stem + book.select('.thumbnail')[0]['src'])    \n",
    "\n",
    "        # Proceed to next page\n",
    "        page_num += 1\n"
   ]
  },
  {
   "cell_type": "code",
   "execution_count": 29,
   "metadata": {},
   "outputs": [
    {
     "data": {
      "text/plain": [
       "196"
      ]
     },
     "execution_count": 29,
     "metadata": {},
     "output_type": "execute_result"
    }
   ],
   "source": [
    "len(images)"
   ]
  },
  {
   "cell_type": "code",
   "execution_count": 30,
   "metadata": {},
   "outputs": [
    {
     "data": {
      "text/plain": [
       "['https://books.toscrape.com/../media/cache/be/a5/bea5697f2534a2f86a3ef27b5a8c12a6.jpg',\n",
       " 'https://books.toscrape.com/../media/cache/5b/88/5b88c52633f53cacf162c15f4f823153.jpg',\n",
       " 'https://books.toscrape.com/../media/cache/94/b1/94b1b8b244bce9677c2f29ccc890d4d2.jpg',\n",
       " 'https://books.toscrape.com/../media/cache/81/c4/81c4a973364e17d01f217e1188253d5e.jpg',\n",
       " 'https://books.toscrape.com/../media/cache/9c/2e/9c2e0eb8866b8e3f3b768994fd3d1c1a.jpg',\n",
       " 'https://books.toscrape.com/../media/cache/44/cc/44ccc99c8f82c33d4f9d2afa4ef25787.jpg',\n",
       " 'https://books.toscrape.com/../media/cache/2e/98/2e98c332bf8563b584784971541c4445.jpg',\n",
       " 'https://books.toscrape.com/../media/cache/0f/7e/0f7ee69495c0df1d35723f012624a9f8.jpg',\n",
       " 'https://books.toscrape.com/../media/cache/5d/7e/5d7ecde8e81513eba8a64c9fe000744b.jpg',\n",
       " 'https://books.toscrape.com/../media/cache/65/71/6571919836ec51ed54f0050c31d8a0cd.jpg']"
      ]
     },
     "execution_count": 30,
     "metadata": {},
     "output_type": "execute_result"
    }
   ],
   "source": [
    "images[:10]"
   ]
  },
  {
   "cell_type": "markdown",
   "metadata": {},
   "source": [
    "<img src= 'https://books.toscrape.com/../media/cache/65/71/6571919836ec51ed54f0050c31d8a0cd.jpg'>"
   ]
  }
 ],
 "metadata": {
  "kernelspec": {
   "display_name": "Python 3",
   "language": "python",
   "name": "python3"
  },
  "language_info": {
   "codemirror_mode": {
    "name": "ipython",
    "version": 3
   },
   "file_extension": ".py",
   "mimetype": "text/x-python",
   "name": "python",
   "nbconvert_exporter": "python",
   "pygments_lexer": "ipython3",
   "version": "3.8.3"
  }
 },
 "nbformat": 4,
 "nbformat_minor": 4
}
