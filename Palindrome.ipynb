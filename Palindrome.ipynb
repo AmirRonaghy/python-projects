{
 "cells": [
  {
   "cell_type": "markdown",
   "metadata": {},
   "source": [
    "# Check if Palindrome"
   ]
  },
  {
   "cell_type": "markdown",
   "metadata": {},
   "source": [
    "Checks if the string entered by the user is a palindrome. That is that it reads the same forwards as backwards like “racecar”"
   ]
  },
  {
   "cell_type": "code",
   "execution_count": 42,
   "metadata": {},
   "outputs": [],
   "source": [
    "def palindrome():\n",
    "    \n",
    "    # Import string library for text processing\n",
    "    import string\n",
    "    \n",
    "    # Ask user to enter the text\n",
    "    text = input(\"Enter a word or phrase to see if it's a palindrome: \")\n",
    "    \n",
    "    # Remove all punctuation\n",
    "    text = text.translate(str.maketrans('', '', string.punctuation))\n",
    "    \n",
    "    # Place all text in lower case and join all words in string together\n",
    "    text = ''.join(text.lower().split())\n",
    "    \n",
    "    # Text is a palindrome if it reads the same forwards and backwards\n",
    "    if text == text[::-1]:\n",
    "        print(\"\\nYes, this is a palindrome!\")    \n",
    "    else:\n",
    "        print(\"\\nNo, this is not a palindrome\")"
   ]
  },
  {
   "cell_type": "code",
   "execution_count": 43,
   "metadata": {},
   "outputs": [
    {
     "name": "stdin",
     "output_type": "stream",
     "text": [
      "Enter a word or phrase to see if it's a palindrome:  Never odd or even!\n"
     ]
    },
    {
     "name": "stdout",
     "output_type": "stream",
     "text": [
      "\n",
      "Yes, this is a palindrome!\n"
     ]
    }
   ],
   "source": [
    "palindrome()"
   ]
  }
 ],
 "metadata": {
  "kernelspec": {
   "display_name": "Python 3",
   "language": "python",
   "name": "python3"
  },
  "language_info": {
   "codemirror_mode": {
    "name": "ipython",
    "version": 3
   },
   "file_extension": ".py",
   "mimetype": "text/x-python",
   "name": "python",
   "nbconvert_exporter": "python",
   "pygments_lexer": "ipython3",
   "version": "3.8.3"
  }
 },
 "nbformat": 4,
 "nbformat_minor": 4
}
