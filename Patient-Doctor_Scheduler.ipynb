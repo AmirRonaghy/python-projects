{
 "cells": [
  {
   "cell_type": "markdown",
   "metadata": {},
   "source": [
    "# Patient / Doctor Scheduler"
   ]
  },
  {
   "cell_type": "markdown",
   "metadata": {},
   "source": [
    "Create a patient class and a doctor class. Have a doctor that can handle multiple patients and setup a scheduling program where a doctor can only handle 16 patients during an 8 hr work day."
   ]
  },
  {
   "cell_type": "code",
   "execution_count": 1,
   "metadata": {},
   "outputs": [],
   "source": [
    "from datetime import datetime\n",
    "from datetime import date\n",
    "import time"
   ]
  },
  {
   "cell_type": "code",
   "execution_count": 2,
   "metadata": {},
   "outputs": [],
   "source": [
    "# Create abstract Person class with name and appointment attributes and check calendar method\n",
    "class Person:\n",
    "    \n",
    "    # Appointments attribute is a list that will store confirmed appointments\n",
    "    def __init__(self,name):        \n",
    "        self.name = name\n",
    "        self.appointments = []\n",
    "      \n",
    "    # Check calendar method confirms if the requested time is available   \n",
    "    def isavailable(self,time,calendar):\n",
    "        \n",
    "        # Search appointments list to confirm time is open \n",
    "        if time not in self.appointments:\n",
    "            pass\n",
    "        else:    \n",
    "            print(\"Sorry, that time is not available. Please select another time.\")\n",
    "\n",
    "    # Add appointment method appends the booked appointment to patient's and doctors records\n",
    "    def add_appointment(self,time,appointments = []):\n",
    "        \n",
    "        self.appointments.append(time)\n",
    "        return self.appointments    \n",
    "    \n",
    "# Create Patient subclass that inherits from the Person class\n",
    "class Patient(Person):\n",
    "    \n",
    "    def __init__(self,name):\n",
    "        super().__init__(name)\n",
    "\n",
    "# Create Doctor subclass inheriting from Person class \n",
    "class Doctor(Person):\n",
    "    \n",
    "    def __init__(self,name):\n",
    "        super().__init__(name)"
   ]
  },
  {
   "cell_type": "code",
   "execution_count": 3,
   "metadata": {},
   "outputs": [],
   "source": [
    "doctor = Doctor(\"Doctor X\")"
   ]
  },
  {
   "cell_type": "code",
   "execution_count": 4,
   "metadata": {},
   "outputs": [],
   "source": [
    "patient = Patient(\"Patient Y\")"
   ]
  },
  {
   "cell_type": "code",
   "execution_count": 5,
   "metadata": {},
   "outputs": [],
   "source": [
    "\n",
    "# Create Calendar to be used by doctor \n",
    "# Function generates 2021 calendar with combinations of months, days, hours and minutes\n",
    "def create_calendar():\n",
    "    \n",
    "    # Create list to store calendar dates and times\n",
    "    calendar = []\n",
    "\n",
    "    # Store minutes in list\n",
    "    minutes = [0,30]\n",
    "\n",
    "    # Iterate through all 12 months\n",
    "    for month in range(1,13):\n",
    "\n",
    "        # Add 28 days to month of Feb except President's Day holiday (Feb 17)\n",
    "        if month == 2:\n",
    "            for day in range(1,29):\n",
    "                for hour in range(8,16):\n",
    "                    for i in range(len(minutes)):\n",
    "                        timeslot = datetime(2021,month,day,hour,minutes[i]).strftime(\"%m/%d/%y %I:%M\")\n",
    "                        if day != 17:\n",
    "                            calendar.append(timeslot)\n",
    "\n",
    "        # Add 31 days to the months listed below\n",
    "        # Remove holidays on Jan 1, May 31, July 4, Dec 25\n",
    "        elif month in [1,3,5,7,8,10,12]:\n",
    "            for day in range(1,32):\n",
    "                for hour in range(8,16):\n",
    "                    for i in range(len(minutes)):        \n",
    "                        timeslot = datetime(2021,month,day,hour,minutes[i]).strftime(\"%m/%d/%y %I:%M\")\n",
    "                        holidays = [\"01/01/21\",\"05/31/21\",\"07/04/21\",\"12/25/21\"]\n",
    "                        if not any(x in timeslot for x in holidays):\n",
    "                            calendar.append(timeslot)\n",
    "\n",
    "        # Add 30 days to remaining months -- April, June, Sept, Nov\n",
    "        elif month in [4,6,9,11]:\n",
    "            for day in range(1,31):\n",
    "                for hour in range(8,16):\n",
    "                    for i in range(len(minutes)):        \n",
    "                        timeslot = datetime(2021,month,day,hour,minutes[i]).strftime(\"%m/%d/%y %I:%M\")\n",
    "                        holidays = [\"09/06/21\",\"11/25/21\"]\n",
    "                        if not any(x in timeslot for x in holidays):\n",
    "                            calendar.append(timeslot)\n",
    "\n",
    "    # Return calendar so it can be passed on to functions below    \n",
    "    return calendar\n"
   ]
  },
  {
   "cell_type": "code",
   "execution_count": 6,
   "metadata": {},
   "outputs": [],
   "source": [
    "calendar = create_calendar()"
   ]
  },
  {
   "cell_type": "code",
   "execution_count": 7,
   "metadata": {},
   "outputs": [
    {
     "data": {
      "text/plain": [
       "5728"
      ]
     },
     "execution_count": 7,
     "metadata": {},
     "output_type": "execute_result"
    }
   ],
   "source": [
    "len(calendar)"
   ]
  },
  {
   "cell_type": "code",
   "execution_count": 8,
   "metadata": {},
   "outputs": [],
   "source": [
    "# Create function to show available times on the select date in the calendar\n",
    "# Calendar is passed into function as an argument\n",
    "def show_times(patient,doctor,calendar):\n",
    "    \n",
    "    while True:\n",
    "\n",
    "        # Ask patient/doctor to select an appointment date \n",
    "        # Append to doctor object for retrieval in functions below\n",
    "        doctor.select_date = input(\"\\nEnter the date when you would like to schedule an appointment using the mm/dd/yy format: \")\n",
    "\n",
    "        # If selected date is available in calendar, display available times on that date\n",
    "        if doctor.select_date in [timeslot[:8] for timeslot in calendar]:\n",
    "\n",
    "            print(f\"\\nThe following times are available on {doctor.select_date}:\")\n",
    "            print(\" \")\n",
    "\n",
    "            # Display open time slots for the requested date\n",
    "            for timeslot in calendar:\n",
    "\n",
    "                # If date (first 7 characters) matches requested date, display the time (last 4 characters)\n",
    "                if timeslot[:8] == doctor.select_date:\n",
    "                    print(timeslot[-5:])\n",
    "            \n",
    "            # Break out of while loop after displaying times     \n",
    "            break\n",
    "\n",
    "        # Else display error message and return to top of look to ask user for requested date\n",
    "        else:\n",
    "            print(\"\\nSorry, that date is invalid or unavailable.\")\n",
    "            continue\n",
    "                  \n",
    "    "
   ]
  },
  {
   "cell_type": "code",
   "execution_count": 9,
   "metadata": {},
   "outputs": [
    {
     "name": "stdin",
     "output_type": "stream",
     "text": [
      "\n",
      "Enter the date when you would like to schedule an appointment using the mm/dd/yy format:  01/14/21\n"
     ]
    },
    {
     "name": "stdout",
     "output_type": "stream",
     "text": [
      "\n",
      "The following times are available on 01/14/21:\n",
      " \n",
      "08:00\n",
      "08:30\n",
      "09:00\n",
      "09:30\n",
      "10:00\n",
      "10:30\n",
      "11:00\n",
      "11:30\n",
      "12:00\n",
      "12:30\n",
      "01:00\n",
      "01:30\n",
      "02:00\n",
      "02:30\n",
      "03:00\n",
      "03:30\n"
     ]
    }
   ],
   "source": [
    "apt_time = show_times(patient,doctor,calendar)"
   ]
  },
  {
   "cell_type": "code",
   "execution_count": 10,
   "metadata": {},
   "outputs": [],
   "source": [
    "# Version w/o confirmation prompt\n",
    "\n",
    "# Create function to book an appointment time\n",
    "# Patient, doctor, calendar and selected date are passed into function as arguments\n",
    "def schedule_appointment(patient,doctor,calendar):\n",
    "    \n",
    "    # Define scheduled variable that will be set to true once appointment has been scheduled\n",
    "    \n",
    "    while True:\n",
    "        \n",
    "        # Ask patient/doctor to select an appointment time\n",
    "        # Selected time is stored with doctor object to enable retrieval in confirmation message\n",
    "        doctor.select_time = input(\"\\nEnter the time when you would like to schedule an appointment using the HH:MM format: \")\n",
    "        \n",
    "        # If selected time is available\n",
    "        if doctor.select_time in [timeslot[-5:] for timeslot in calendar]:\n",
    "        \n",
    "            # Store selected date and time in tuple to support for loop below\n",
    "            selections = (doctor.select_date,doctor.select_time)\n",
    "\n",
    "            # Iterate through each index in calendar\n",
    "            for i in range(len(calendar)):\n",
    "\n",
    "                # If time slot contains selected date and time, add to doctor's and patient's appointment records\n",
    "                # Uses add appointment method for doctor and patient objects to ensure records are kepts for each one\n",
    "                # Then remove selected time slot from calendar\n",
    "                if all(x in calendar[i] for x in selections):           \n",
    "\n",
    "                    doctor.add_appointment(calendar[i])\n",
    "                    patient.add_appointment(calendar[i])\n",
    "                    calendar.pop(i)\n",
    "                    return \"Thank you, your appointment has been booked for {} at {}\".format(doctor.select_date, doctor.select_time)\n",
    "        \n",
    "        # Else if unavailable time or invalid input, display error message and start over\n",
    "        else:\n",
    "            print(\"\\nSorry, that time is unavailable or invalid.\")\n",
    "            continue      \n",
    "            \n",
    "  "
   ]
  },
  {
   "cell_type": "code",
   "execution_count": 11,
   "metadata": {},
   "outputs": [],
   "source": [
    "# Version w/ confirmation prompt\n",
    "\n",
    "# Create function to book an appointment time\n",
    "# Patient, doctor, calendar and selected date are passed into function as arguments\n",
    "def schedule_appointment(patient,doctor,calendar):\n",
    "    \n",
    "    # Define scheduled variable that will be set to true once appointment has been scheduled\n",
    "    \n",
    "    while True:\n",
    "        \n",
    "        # Ask patient/doctor to select an appointment time\n",
    "        # Selected time is stored with doctor object to enable retrieval in confirmation message\n",
    "        doctor.select_time = input(\"\\nEnter the time when you would like to schedule an appointment using the HH:MM format: \")\n",
    "        \n",
    "        # If selected time is available\n",
    "        if doctor.select_time in [timeslot[-5:] for timeslot in calendar]:\n",
    "        \n",
    "             # Ask user to confirm selection\n",
    "            while True:\n",
    "                \n",
    "                doctor.confirm = input(f\"You have selected {doctor.select_date} at {doctor.select_time}. Would you like to book this appointment? (Y or N)\")\n",
    "                \n",
    "                # If confirmed, display confirmation\n",
    "                if doctor.confirm[0].upper() == \"Y\":\n",
    "                \n",
    "                    # Store selected date and time in tuple to support for loop below\n",
    "                    selections = (doctor.select_date,doctor.select_time)\n",
    "\n",
    "                    # Iterate through each index in calendar\n",
    "                    for i in range(len(calendar)):\n",
    "\n",
    "                        # If time slot contains selected date and time, add to doctor's and patient's appointment records\n",
    "                        # Uses add appointment method for doctor and patient objects to ensure records are kepts for each one\n",
    "                        # Then remove selected time slot from calendar\n",
    "                        if all(x in calendar[i] for x in selections):           \n",
    "\n",
    "                            doctor.add_appointment(calendar[i])\n",
    "                            patient.add_appointment(calendar[i])\n",
    "                            calendar.pop(i)\n",
    "                            return \"Thank you, your appointment has been booked.\"\n",
    "                        \n",
    "                # If not, break on return to beginning\n",
    "                elif doctor.confirm[0].upper() == \"N\":\n",
    "                    return \"Okay let's start over then.\"                  \n",
    "                \n",
    "                # Else\n",
    "                else:\n",
    "                    print(\"Sorry, I don't understand.\")\n",
    "                    continue\n",
    "        \n",
    "        # Else if unavailable time or invalid input, display error message and start over\n",
    "        else:\n",
    "            print(\"\\nSorry, that time is unavailable or invalid.\")\n",
    "            continue      \n",
    "            \n",
    "  "
   ]
  },
  {
   "cell_type": "code",
   "execution_count": 12,
   "metadata": {},
   "outputs": [
    {
     "data": {
      "text/plain": [
       "'01/14/21'"
      ]
     },
     "execution_count": 12,
     "metadata": {},
     "output_type": "execute_result"
    }
   ],
   "source": [
    "doctor.select_date"
   ]
  },
  {
   "cell_type": "code",
   "execution_count": 14,
   "metadata": {},
   "outputs": [
    {
     "name": "stdin",
     "output_type": "stream",
     "text": [
      "\n",
      "Enter the time when you would like to schedule an appointment using the HH:MM format:  01:00\n",
      "You have selected 01/14/21 at 01:00. Would you like to book this appointment? (Y or N) y\n"
     ]
    },
    {
     "data": {
      "text/plain": [
       "'Thank you, your appointment has been booked.'"
      ]
     },
     "execution_count": 14,
     "metadata": {},
     "output_type": "execute_result"
    }
   ],
   "source": [
    "schedule_appointment(patient,doctor,calendar)"
   ]
  },
  {
   "cell_type": "code",
   "execution_count": null,
   "metadata": {},
   "outputs": [],
   "source": []
  },
  {
   "cell_type": "code",
   "execution_count": 15,
   "metadata": {},
   "outputs": [
    {
     "data": {
      "text/plain": [
       "['01/14/21 01:00']"
      ]
     },
     "execution_count": 15,
     "metadata": {},
     "output_type": "execute_result"
    }
   ],
   "source": [
    "doctor.appointments"
   ]
  },
  {
   "cell_type": "code",
   "execution_count": 16,
   "metadata": {},
   "outputs": [
    {
     "data": {
      "text/plain": [
       "['01/14/21 01:00']"
      ]
     },
     "execution_count": 16,
     "metadata": {},
     "output_type": "execute_result"
    }
   ],
   "source": [
    "patient.appointments"
   ]
  },
  {
   "cell_type": "code",
   "execution_count": 19,
   "metadata": {},
   "outputs": [],
   "source": [
    "# Create modify function to allow patient/doctor to reschedule or cancel an appointment\n",
    "# Patient, doctor, and calendar are passed into function as arguments\n",
    "def modify_appointment(patient,doctor,calendar):\n",
    "    \n",
    "    # Define rescheduled, cancelled and exit variables that will be set to true based on outcome\n",
    "\n",
    "    if len(patient.appointments) == 0:\n",
    "        \n",
    "        print(\"No appointments with doctor were found for this patient.\")\n",
    "                \n",
    "    else:       \n",
    "        # Show patient's confirmed appointmentin string format\n",
    "        print(\"\\nThe following appointment has been scheduled:\")\n",
    "        print(\" \")\n",
    "        print(\", \".join(patient.appointments))\n",
    "\n",
    "        while True:\n",
    "\n",
    "            # Ask whether to cancel or reschedule \n",
    "            select = input(\"\\nWould you like to reschedule or cancel this appointment? \\nEnter 'exit' to keep your existing appointment.\")\n",
    "\n",
    "            # If cancel, remove appointment time from patient's and doctor's records and place it back in calendar\n",
    "            # Set cancelled to True to display cancellation message to end program\n",
    "            if \"cancel\" in select.lower():\n",
    "                \n",
    "                patient.appointments.pop()\n",
    "                calendar.append(doctor.appointments.pop())\n",
    "                \n",
    "                return \"Thank you, your appointment has been cancelled.\"             \n",
    "                \n",
    "            # If reschedule, remove appointment time from patient's and doctor's records and place it back in calendar\n",
    "            # Set rescheduled to True to restart program and allow patient/doctor to schedule new appointment\n",
    "            elif \"reschedule\" in select.lower():\n",
    "\n",
    "                patient.appointments.pop()\n",
    "                calendar.append(doctor.appointments.pop())\n",
    "                return \"Okay, let's reschedule your appointment.\"\n",
    "\n",
    "            # If exit, set exit to True and break to terminate function without doing anything\n",
    "            elif \"exit\" in select.lower():  \n",
    "                return \"Exiting program.\"\n",
    "            \n",
    "            # Else display error message and start over\n",
    "            else:\n",
    "                print(\"\\nSorry, I didn't undestand.\")\n",
    "                continue"
   ]
  },
  {
   "cell_type": "code",
   "execution_count": 20,
   "metadata": {},
   "outputs": [
    {
     "name": "stdout",
     "output_type": "stream",
     "text": [
      "\n",
      "The following appointment has been scheduled:\n",
      " \n",
      "01/14/21 01:00\n"
     ]
    },
    {
     "name": "stdin",
     "output_type": "stream",
     "text": [
      "\n",
      "Would you like to reschedule or cancel this appointment? \n",
      "Enter 'exit' to keep your existing appointment. reschedule\n"
     ]
    },
    {
     "data": {
      "text/plain": [
       "\"Okay, let's reschedule your appointment.\""
      ]
     },
     "execution_count": 20,
     "metadata": {},
     "output_type": "execute_result"
    }
   ],
   "source": [
    "modify_appointment(patient,doctor,calendar)"
   ]
  },
  {
   "cell_type": "code",
   "execution_count": 22,
   "metadata": {},
   "outputs": [
    {
     "name": "stdout",
     "output_type": "stream",
     "text": [
      "Welcome to the appointment scheduling portal\n"
     ]
    },
    {
     "name": "stdin",
     "output_type": "stream",
     "text": [
      "\n",
      "Please enter 'S' to schedule a new appointment or 'M' to modify an existing appointment.  m\n"
     ]
    },
    {
     "name": "stdout",
     "output_type": "stream",
     "text": [
      "You don't have any upcoming appointments with your doctor.\n",
      "None\n"
     ]
    }
   ],
   "source": [
    "# Program structure\n",
    "\n",
    "# Instantiate patient and doctor\n",
    "doctor = Doctor(\"Dr Strangelove\")\n",
    "patient = Patient(\"Patient X\")\n",
    "\n",
    "# Create doctor's calendar\n",
    "calendar = create_calendar()\n",
    "\n",
    "print(\"Welcome to the appointment scheduling portal\")\n",
    "\n",
    "scheduling = True\n",
    "    \n",
    "while scheduling:\n",
    "    \n",
    "    option = input(\"\\nPlease enter 'S' to schedule a new appointment or 'M' to modify an existing appointment. \")\n",
    "    \n",
    "    # If schedule:\n",
    "    if option.upper()[0] == \"S\":\n",
    "        \n",
    "        # Call show times function to display available times for selected date\n",
    "        # Show times returns the selected date\n",
    "        apt_time = show_times(patient,doctor,calendar)\n",
    "        \n",
    "        # Call schedule appointment function to select a time and store output in variable to support \"if-else\" flow below\n",
    "        # Function returns \"scheduled\" and adds appointment to doctor's and patient's records \n",
    "        book_apt = schedule_appointment(patient,doctor,calendar)\n",
    "        \n",
    "        # Display appointment confirmation (if applicable)\n",
    "        print(book_apt)\n",
    "                 \n",
    "        \n",
    "        # If scheduled, end program\n",
    "        if \"booked\" in book_apt:\n",
    "            scheduling = False            \n",
    "            break\n",
    "        \n",
    "        # Else program will start over \n",
    "        elif \"start over\" in book_apt:\n",
    "            option == \"S\"\n",
    "            continue\n",
    "          \n",
    "\n",
    "    # If modify:\n",
    "    elif option.upper()[0] == \"M\":    \n",
    "    \n",
    "        # Call modify function and store result in variable to support \"if-else\" flow below\n",
    "        modify = modify_appointment(patient,doctor,calendar)\n",
    "        \n",
    "        if len(modify) > 0:\n",
    "            print(modify)        \n",
    "        \n",
    "        # If there are no appointments, \n",
    "        if modify is None:\n",
    "            scheduling = False\n",
    "            break\n",
    "        \n",
    "        # If rescheduled, return to start of while loop and begin scheduling process\n",
    "        elif \"reschedule\" in modify:\n",
    "            option == \"S\"\n",
    "            continue\n",
    "            \n",
    "        # Else if cancelled or exiting, end program        \n",
    "        else:\n",
    "            scheduling = False\n",
    "            break\n",
    "        \n",
    "    # Else display error message and start over\n",
    "    else:\n",
    "        print(\"Sorry, I didn't understand.\")\n",
    "        continue\n",
    "        \n"
   ]
  },
  {
   "cell_type": "code",
   "execution_count": null,
   "metadata": {},
   "outputs": [],
   "source": []
  }
 ],
 "metadata": {
  "kernelspec": {
   "display_name": "Python 3",
   "language": "python",
   "name": "python3"
  },
  "language_info": {
   "codemirror_mode": {
    "name": "ipython",
    "version": 3
   },
   "file_extension": ".py",
   "mimetype": "text/x-python",
   "name": "python",
   "nbconvert_exporter": "python",
   "pygments_lexer": "ipython3",
   "version": "3.8.3"
  }
 },
 "nbformat": 4,
 "nbformat_minor": 4
}
