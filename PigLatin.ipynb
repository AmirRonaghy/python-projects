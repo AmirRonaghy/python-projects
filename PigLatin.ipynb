{
 "cells": [
  {
   "cell_type": "markdown",
   "metadata": {},
   "source": [
    "# Pig Latin"
   ]
  },
  {
   "cell_type": "markdown",
   "metadata": {},
   "source": [
    "Pig Latin is a game of alterations played on the English language game. To create the Pig Latin form of an English word the initial consonant sound is transposed to the end of the word and an ay is affixed (Ex.: \"banana\" would yield anana-bay). Read Wikipedia for more information on rules."
   ]
  },
  {
   "cell_type": "code",
   "execution_count": 1,
   "metadata": {},
   "outputs": [],
   "source": [
    "def pigLatin():\n",
    "\n",
    "    # Import regex library\n",
    "    import re\n",
    "\n",
    "    # Ask user to enter a string\n",
    "    text = input(\"Enter the text you would like to translate to Pig Latin: \")\n",
    "\n",
    "    # Split string to into list of words and punctuation\n",
    "    text_list = re.findall(r\"[\\w']+|[\\W]\",text)\n",
    "\n",
    "    # Create list to store Pig Latin words\n",
    "    pig_latin = \" \"\n",
    "\n",
    "    # For each list item from the original string\n",
    "    for i in range(len(text_list)):\n",
    "\n",
    "        # Search for vowels within each word\n",
    "        vowel = re.search(\"a|e|i|o|u|y\",text_list[i])\n",
    "\n",
    "        # If punctuation or number, add to Pig Latin string as is\n",
    "        if re.search(r\"\\W|\\d\",text_list[i]):\n",
    "            pig_latin += text_list[i]\n",
    "\n",
    "        # If word begins with vowel, add \"yay\" to end of original word\n",
    "        elif vowel.start() == 0:\n",
    "            pig_latin += \" \" + text_list[i] + \"yay\"\n",
    "\n",
    "        # If word begins with a consonant, append consonant(s) before first vowel + \"ay\" to end of word\n",
    "        elif vowel.start() > 0:\n",
    "            pig_latin += \" \" + text_list[i][(vowel.start()):] + text_list[i][:(vowel.start())] + \"ay\"\n",
    "\n",
    "    # Display new Pig Latin sentence\n",
    "    return f\"The Pig Latin translation is: {pig_latin}\"\n"
   ]
  },
  {
   "cell_type": "code",
   "execution_count": 2,
   "metadata": {},
   "outputs": [
    {
     "name": "stdin",
     "output_type": "stream",
     "text": [
      "Enter the text you would like to translate to Pig Latin:  Hello, today's date is Dec 2, 2020.\n"
     ]
    },
    {
     "data": {
      "text/plain": [
       "\"The Pig Latin translation is:   elloHay, today's  ateday  isyay  ecDay 2, 2020.\""
      ]
     },
     "execution_count": 2,
     "metadata": {},
     "output_type": "execute_result"
    }
   ],
   "source": [
    "pigLatin()"
   ]
  },
  {
   "cell_type": "code",
   "execution_count": null,
   "metadata": {},
   "outputs": [],
   "source": []
  }
 ],
 "metadata": {
  "kernelspec": {
   "display_name": "Python 3",
   "language": "python",
   "name": "python3"
  },
  "language_info": {
   "codemirror_mode": {
    "name": "ipython",
    "version": 3
   },
   "file_extension": ".py",
   "mimetype": "text/x-python",
   "name": "python",
   "nbconvert_exporter": "python",
   "pygments_lexer": "ipython3",
   "version": "3.8.3"
  }
 },
 "nbformat": 4,
 "nbformat_minor": 4
}
