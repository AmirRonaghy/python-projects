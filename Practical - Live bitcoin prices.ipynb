{
 "cells": [
  {
   "cell_type": "code",
   "execution_count": null,
   "metadata": {},
   "outputs": [],
   "source": [
    "'''\n",
    "- Access data from 'https://api.coinmarketcap.com/v1/ticker/bitcoin/'\n",
    "- Output the current value of bitcoin\n",
    "- Bonus: Have the value automatically update every five seconds (hint: research the time module)\n",
    "- Bonus: Output the currenct time and date\n",
    "\n",
    "'''"
   ]
  },
  {
   "cell_type": "code",
   "execution_count": 1,
   "metadata": {},
   "outputs": [],
   "source": [
    "import requests\n",
    "import time"
   ]
  },
  {
   "cell_type": "code",
   "execution_count": 10,
   "metadata": {},
   "outputs": [],
   "source": [
    "# Access data from API\n",
    "url = 'https://api.coindesk.com/v1/bpi/currentprice.json'\n",
    "response = requests.get(url)\n",
    "data = response.json()"
   ]
  },
  {
   "cell_type": "code",
   "execution_count": 11,
   "metadata": {},
   "outputs": [
    {
     "name": "stdout",
     "output_type": "stream",
     "text": [
      "{'time': {'updated': 'May 7, 2021 21:04:00 UTC', 'updatedISO': '2021-05-07T21:04:00+00:00', 'updateduk': 'May 7, 2021 at 22:04 BST'}, 'disclaimer': 'This data was produced from the CoinDesk Bitcoin Price Index (USD). Non-USD currency data converted using hourly conversion rate from openexchangerates.org', 'chartName': 'Bitcoin', 'bpi': {'USD': {'code': 'USD', 'symbol': '&#36;', 'rate': '57,656.3323', 'description': 'United States Dollar', 'rate_float': 57656.3323}, 'GBP': {'code': 'GBP', 'symbol': '&pound;', 'rate': '41,175.7310', 'description': 'British Pound Sterling', 'rate_float': 41175.731}, 'EUR': {'code': 'EUR', 'symbol': '&euro;', 'rate': '47,384.2802', 'description': 'Euro', 'rate_float': 47384.2802}}}\n"
     ]
    }
   ],
   "source": [
    "print(data)"
   ]
  },
  {
   "cell_type": "code",
   "execution_count": 14,
   "metadata": {},
   "outputs": [
    {
     "name": "stdout",
     "output_type": "stream",
     "text": [
      "57,656.3323\n"
     ]
    }
   ],
   "source": [
    "print(data['bpi']['USD']['rate'])"
   ]
  },
  {
   "cell_type": "code",
   "execution_count": 44,
   "metadata": {},
   "outputs": [
    {
     "name": "stdout",
     "output_type": "stream",
     "text": [
      "Fri, 07 May 2021 21:3449\n"
     ]
    }
   ],
   "source": [
    "print(time.strftime(\"%a, %d %b %Y %H:%M%S\", time.gmtime()))"
   ]
  },
  {
   "cell_type": "code",
   "execution_count": 48,
   "metadata": {},
   "outputs": [
    {
     "name": "stdout",
     "output_type": "stream",
     "text": [
      "Current time: Fri, 07 May 2021 21:38:22\n",
      "\n",
      "Bitcoin value in:\n",
      "\n",
      "USD: 57,644.0586\n",
      "GBP: 41,230.2587\n",
      "EUR: 47,389.0652\n",
      "\n",
      "Current time: Fri, 07 May 2021 21:38:27\n",
      "\n",
      "Bitcoin value in:\n",
      "\n",
      "USD: 57,644.0586\n",
      "GBP: 41,230.2587\n",
      "EUR: 47,389.0652\n",
      "\n",
      "Current time: Fri, 07 May 2021 21:38:32\n",
      "\n",
      "Bitcoin value in:\n",
      "\n",
      "USD: 57,644.0586\n",
      "GBP: 41,230.2587\n",
      "EUR: 47,389.0652\n",
      "\n",
      "Current time: Fri, 07 May 2021 21:38:37\n",
      "\n",
      "Bitcoin value in:\n",
      "\n",
      "USD: 57,644.0586\n",
      "GBP: 41,230.2587\n",
      "EUR: 47,389.0652\n",
      "\n",
      "Current time: Fri, 07 May 2021 21:38:42\n",
      "\n",
      "Bitcoin value in:\n",
      "\n",
      "USD: 57,644.0586\n",
      "GBP: 41,230.2587\n",
      "EUR: 47,389.0652\n",
      "\n",
      "Current time: Fri, 07 May 2021 21:38:48\n",
      "\n",
      "Bitcoin value in:\n",
      "\n",
      "USD: 57,644.0586\n",
      "GBP: 41,230.2587\n",
      "EUR: 47,389.0652\n",
      "\n",
      "Current time: Fri, 07 May 2021 21:38:53\n",
      "\n",
      "Bitcoin value in:\n",
      "\n",
      "USD: 57,644.0586\n",
      "GBP: 41,230.2587\n",
      "EUR: 47,389.0652\n",
      "\n",
      "Current time: Fri, 07 May 2021 21:38:58\n",
      "\n",
      "Bitcoin value in:\n",
      "\n",
      "USD: 57,644.0586\n",
      "GBP: 41,230.2587\n",
      "EUR: 47,389.0652\n",
      "\n",
      "Current time: Fri, 07 May 2021 21:39:03\n",
      "\n",
      "Bitcoin value in:\n",
      "\n",
      "USD: 57,644.0586\n",
      "GBP: 41,230.2587\n",
      "EUR: 47,389.0652\n",
      "\n",
      "Current time: Fri, 07 May 2021 21:39:08\n",
      "\n",
      "Bitcoin value in:\n",
      "\n",
      "USD: 57,644.0586\n",
      "GBP: 41,230.2587\n",
      "EUR: 47,389.0652\n",
      "\n",
      "Current time: Fri, 07 May 2021 21:39:13\n",
      "\n",
      "Bitcoin value in:\n",
      "\n",
      "USD: 57,644.0586\n",
      "GBP: 41,230.2587\n",
      "EUR: 47,389.0652\n",
      "\n",
      "Current time: Fri, 07 May 2021 21:39:19\n",
      "\n",
      "Bitcoin value in:\n",
      "\n",
      "USD: 57,636.6861\n",
      "GBP: 41,224.9856\n",
      "EUR: 47,383.0044\n",
      "\n",
      "Current time: Fri, 07 May 2021 21:39:24\n",
      "\n",
      "Bitcoin value in:\n",
      "\n",
      "USD: 57,636.6861\n",
      "GBP: 41,224.9856\n",
      "EUR: 47,383.0044\n",
      "\n",
      "Current time: Fri, 07 May 2021 21:39:29\n",
      "\n",
      "Bitcoin value in:\n",
      "\n",
      "USD: 57,636.6861\n",
      "GBP: 41,224.9856\n",
      "EUR: 47,383.0044\n",
      "\n",
      "Current time: Fri, 07 May 2021 21:39:34\n",
      "\n",
      "Bitcoin value in:\n",
      "\n",
      "USD: 57,636.6861\n",
      "GBP: 41,224.9856\n",
      "EUR: 47,383.0044\n",
      "\n",
      "Current time: Fri, 07 May 2021 21:39:40\n",
      "\n",
      "Bitcoin value in:\n",
      "\n",
      "USD: 57,636.6861\n",
      "GBP: 41,224.9856\n",
      "EUR: 47,383.0044\n",
      "\n",
      "Current time: Fri, 07 May 2021 21:39:45\n",
      "\n",
      "Bitcoin value in:\n",
      "\n",
      "USD: 57,636.6861\n",
      "GBP: 41,224.9856\n",
      "EUR: 47,383.0044\n",
      "\n"
     ]
    },
    {
     "ename": "KeyboardInterrupt",
     "evalue": "",
     "output_type": "error",
     "traceback": [
      "\u001b[1;31m---------------------------------------------------------------------------\u001b[0m",
      "\u001b[1;31mKeyboardInterrupt\u001b[0m                         Traceback (most recent call last)",
      "\u001b[1;32m<ipython-input-48-36384844d425>\u001b[0m in \u001b[0;36m<module>\u001b[1;34m\u001b[0m\n\u001b[0;32m      8\u001b[0m     \u001b[0mprint\u001b[0m\u001b[1;33m(\u001b[0m\u001b[1;34mf\"Current time: {current_time}\\n\"\u001b[0m\u001b[1;33m)\u001b[0m\u001b[1;33m\u001b[0m\u001b[1;33m\u001b[0m\u001b[0m\n\u001b[0;32m      9\u001b[0m     \u001b[0mprint\u001b[0m\u001b[1;33m(\u001b[0m\u001b[1;34mf\"Bitcoin value in:\\n\\nUSD: {data['bpi']['USD']['rate']}\\nGBP: {data['bpi']['GBP']['rate']}\\nEUR: {data['bpi']['EUR']['rate']}\\n\"\u001b[0m\u001b[1;33m)\u001b[0m\u001b[1;33m\u001b[0m\u001b[1;33m\u001b[0m\u001b[0m\n\u001b[1;32m---> 10\u001b[1;33m     \u001b[0mtime\u001b[0m\u001b[1;33m.\u001b[0m\u001b[0msleep\u001b[0m\u001b[1;33m(\u001b[0m\u001b[1;36m5\u001b[0m\u001b[1;33m)\u001b[0m\u001b[1;33m\u001b[0m\u001b[1;33m\u001b[0m\u001b[0m\n\u001b[0m",
      "\u001b[1;31mKeyboardInterrupt\u001b[0m: "
     ]
    }
   ],
   "source": [
    "# Display bitcoin value and current date and time in real-time -- updated every 5 seconds\n",
    "while True:\n",
    "    \n",
    "    url = 'https://api.coindesk.com/v1/bpi/currentprice.json'\n",
    "    response = requests.get(url)\n",
    "    data = response.json()\n",
    "    current_time = time.strftime(\"%a, %d %b %Y %H:%M:%S\", time.gmtime())\n",
    "    print(f\"Current time: {current_time}\\n\")\n",
    "    print(f\"Bitcoin value in:\\n\\nUSD: {data['bpi']['USD']['rate']}\\nGBP: {data['bpi']['GBP']['rate']}\\nEUR: {data['bpi']['EUR']['rate']}\\n\")\n",
    "    time.sleep(5)\n"
   ]
  },
  {
   "cell_type": "code",
   "execution_count": null,
   "metadata": {},
   "outputs": [],
   "source": []
  }
 ],
 "metadata": {
  "kernelspec": {
   "display_name": "Python 3",
   "language": "python",
   "name": "python3"
  },
  "language_info": {
   "codemirror_mode": {
    "name": "ipython",
    "version": 3
   },
   "file_extension": ".py",
   "mimetype": "text/x-python",
   "name": "python",
   "nbconvert_exporter": "python",
   "pygments_lexer": "ipython3",
   "version": "3.8.3"
  }
 },
 "nbformat": 4,
 "nbformat_minor": 4
}
