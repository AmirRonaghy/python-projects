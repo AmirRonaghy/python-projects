{
 "cells": [
  {
   "cell_type": "code",
   "execution_count": null,
   "metadata": {},
   "outputs": [],
   "source": [
    "'''\n",
    "- Create an online bank where:\n",
    "- User can create new accounts that include - Account type (current, savings, etc), name of account holder, account balance, etc\n",
    "- User can withdraw money, deposit, or check balance\n",
    "'''"
   ]
  },
  {
   "cell_type": "code",
   "execution_count": 54,
   "metadata": {},
   "outputs": [],
   "source": [
    "# Create account class to allow customers to create new accounts\n",
    "class Account:\n",
    "    \n",
    "    def __init__(self, account_type, name, balance):\n",
    "        self.account_type = account_type\n",
    "        self.name = name\n",
    "        self.balance = balance\n",
    "    \n",
    "    # Method to withdraw money from account\n",
    "    def withdraw(self, amount):\n",
    "        \n",
    "        # If amount exceeds balance, display error\n",
    "        if amount > self.balance:\n",
    "            print(f\"Sorry, that amount exceeds your current balance of {self.balance}.\")\n",
    "            \n",
    "        # If amount is zero or negative, display error\n",
    "        elif amount <= 0:          \n",
    "            print(\"Withdrawal amount must be greater than 0.\")\n",
    "        \n",
    "        # If amount > 0 and within remaining balance, withdraw\n",
    "        else:\n",
    "            self.balance -= amount\n",
    "            print(f\"You have withdrawn {amount}. Your remaining balance is {self.balance}.\")     \n",
    "           \n",
    "    # Method to deposit money into account\n",
    "    def deposit(self, amount):\n",
    "        \n",
    "        # If amount is zero or negative, display error\n",
    "        if amount <= 0:          \n",
    "            print(\"Deposit amount must be greater than 0.\")        \n",
    "        \n",
    "        # Else allow deposit \n",
    "        else:\n",
    "            self.balance += amount\n",
    "            print(f\"You have deposited {amount}. Your updated balance is {self.balance}.\") \n",
    "            \n",
    "    # Method to check current balance\n",
    "    def check_balance(self):\n",
    "        \n",
    "        print(f\"Your current balance is {self.balance}.\")"
   ]
  },
  {
   "cell_type": "code",
   "execution_count": 55,
   "metadata": {},
   "outputs": [],
   "source": [
    "my_account = Account(\"checking\", \"Amir\", 100)"
   ]
  },
  {
   "cell_type": "code",
   "execution_count": 56,
   "metadata": {},
   "outputs": [
    {
     "data": {
      "text/plain": [
       "100"
      ]
     },
     "execution_count": 56,
     "metadata": {},
     "output_type": "execute_result"
    }
   ],
   "source": [
    "my_account.balance"
   ]
  },
  {
   "cell_type": "code",
   "execution_count": 57,
   "metadata": {},
   "outputs": [
    {
     "name": "stdout",
     "output_type": "stream",
     "text": [
      "You have deposited 50. Your updated balance is 150.\n"
     ]
    }
   ],
   "source": [
    "my_account.deposit(50)"
   ]
  },
  {
   "cell_type": "code",
   "execution_count": 58,
   "metadata": {},
   "outputs": [
    {
     "name": "stdout",
     "output_type": "stream",
     "text": [
      "Deposit amount must be greater than 0.\n"
     ]
    }
   ],
   "source": [
    "my_account.deposit(-10)"
   ]
  },
  {
   "cell_type": "code",
   "execution_count": 59,
   "metadata": {},
   "outputs": [
    {
     "name": "stdout",
     "output_type": "stream",
     "text": [
      "You have withdrawn 50. Your remaining balance is 100.\n"
     ]
    }
   ],
   "source": [
    "my_account.withdraw(50)"
   ]
  },
  {
   "cell_type": "code",
   "execution_count": 60,
   "metadata": {},
   "outputs": [
    {
     "name": "stdout",
     "output_type": "stream",
     "text": [
      "Withdrawal amount must be greater than 0.\n"
     ]
    }
   ],
   "source": [
    "my_account.withdraw(0)"
   ]
  },
  {
   "cell_type": "code",
   "execution_count": 61,
   "metadata": {},
   "outputs": [
    {
     "name": "stdout",
     "output_type": "stream",
     "text": [
      "Your current balance is 100.\n"
     ]
    }
   ],
   "source": [
    "my_account.check_balance()"
   ]
  },
  {
   "cell_type": "code",
   "execution_count": 62,
   "metadata": {},
   "outputs": [
    {
     "data": {
      "text/plain": [
       "'checking'"
      ]
     },
     "execution_count": 62,
     "metadata": {},
     "output_type": "execute_result"
    }
   ],
   "source": [
    "my_account.account_type"
   ]
  },
  {
   "cell_type": "code",
   "execution_count": 63,
   "metadata": {},
   "outputs": [
    {
     "data": {
      "text/plain": [
       "100"
      ]
     },
     "execution_count": 63,
     "metadata": {},
     "output_type": "execute_result"
    }
   ],
   "source": [
    "my_account.balance"
   ]
  },
  {
   "cell_type": "code",
   "execution_count": 65,
   "metadata": {},
   "outputs": [
    {
     "data": {
      "text/plain": [
       "'Amir'"
      ]
     },
     "execution_count": 65,
     "metadata": {},
     "output_type": "execute_result"
    }
   ],
   "source": [
    "my_account.name"
   ]
  },
  {
   "cell_type": "code",
   "execution_count": null,
   "metadata": {},
   "outputs": [],
   "source": []
  }
 ],
 "metadata": {
  "kernelspec": {
   "display_name": "Python 3",
   "language": "python",
   "name": "python3"
  },
  "language_info": {
   "codemirror_mode": {
    "name": "ipython",
    "version": 3
   },
   "file_extension": ".py",
   "mimetype": "text/x-python",
   "name": "python",
   "nbconvert_exporter": "python",
   "pygments_lexer": "ipython3",
   "version": "3.8.3"
  }
 },
 "nbformat": 4,
 "nbformat_minor": 4
}
