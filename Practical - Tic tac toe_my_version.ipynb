{
 "cells": [
  {
   "cell_type": "code",
   "execution_count": 1,
   "metadata": {},
   "outputs": [
    {
     "data": {
      "text/plain": [
       "\"\\nPart #1\\n- Create a board for tic tac toe that looks something like this:\\n\\nx| |\\n |o|\\n | |x     (hint: you can use '\\n' to print on a new line)   TICK=============================\\n \\n - User can enter a space between 1-9 and an x will appear in that spot TICK ===============\\n - User can then do the same and an o will appear TICK ====================\\n ================================================\\n Part #2\\n - If user tries to enter a space that is already taken, they are not allowed and have to try again\\n - If user gets three in a row, game ends and the winner is announced\\n=================================================\\n Part #3\\n - User can choose whether to play with a friend (using the same keyboard) or against the computer\\n - Design the computer to make its own moves\\n\""
      ]
     },
     "execution_count": 1,
     "metadata": {},
     "output_type": "execute_result"
    }
   ],
   "source": [
    "'''\n",
    "Part #1\n",
    "- Create a board for tic tac toe that looks something like this:\n",
    "\n",
    "x| |\n",
    " |o|\n",
    " | |x     (hint: you can use '\\n' to print on a new line)   TICK=============================\n",
    " \n",
    " - User can enter a space between 1-9 and an x will appear in that spot TICK ===============\n",
    " - User can then do the same and an o will appear TICK ====================\n",
    " ================================================\n",
    " Part #2\n",
    " - If user tries to enter a space that is already taken, they are not allowed and have to try again\n",
    " - If user gets three in a row, game ends and the winner is announced\n",
    "=================================================\n",
    " Part #3\n",
    " - User can choose whether to play with a friend (using the same keyboard) or against the computer\n",
    " - Design the computer to make its own moves\n",
    "'''"
   ]
  },
  {
   "cell_type": "code",
   "execution_count": 2,
   "metadata": {},
   "outputs": [],
   "source": [
    "board = [\" \"] * 9"
   ]
  },
  {
   "cell_type": "code",
   "execution_count": 3,
   "metadata": {},
   "outputs": [],
   "source": [
    "def draw_board(board):\n",
    "    row_1 = \"{}|{}|{}\".format(board[0],board[1],board[2])\n",
    "    row_2 = \"{}|{}|{}\".format(board[3],board[4],board[5])\n",
    "    row_3 = \"{}|{}|{}\".format(board[6],board[7],board[8])\n",
    "\n",
    "    print(row_1+'\\n'+row_2+'\\n'+row_3)"
   ]
  },
  {
   "cell_type": "code",
   "execution_count": 4,
   "metadata": {},
   "outputs": [],
   "source": [
    "# # Function to check if selected space is open\n",
    "# def free_space(move):\n",
    "    \n",
    "#     if board[move] == ' ':\n",
    "#         return True\n",
    "#     else:\n",
    "#         return False"
   ]
  },
  {
   "cell_type": "code",
   "execution_count": 5,
   "metadata": {},
   "outputs": [],
   "source": [
    "# Function to check if move is valid\n",
    "def is_valid(space, mark):\n",
    "    \n",
    "    # If selected space is in range, continue  \n",
    "    if space >= 0 and space <= 8:\n",
    "\n",
    "        # If space is open, place a mark in the selected space and terminate function\n",
    "        #if free_space(space):\n",
    "        if board[space] == ' ':\n",
    "    \n",
    "            board[space] = mark\n",
    "            draw_board(board)          \n",
    "            return True\n",
    "\n",
    "        else:\n",
    "            print(\"Sorry, that space is taken\")\n",
    "            return False\n",
    "    else:\n",
    "        print(\"Number must be between 1 and 9\")\n",
    "        return False"
   ]
  },
  {
   "cell_type": "code",
   "execution_count": 6,
   "metadata": {},
   "outputs": [],
   "source": [
    "'''\n",
    "Function to prompt the player to select a space and place a marker there if space is open \n",
    "or reject move if not\n",
    "'''\n",
    "\n",
    "def move(player, number):\n",
    "    \n",
    "    while True:  \n",
    "        \n",
    "        try:\n",
    "        \n",
    "            # Prompt user to select a space and subtract 1 to align with board indices 0-8\n",
    "            space = int(input(f\"Player {number}, choose your space between 1-9: \"))\n",
    "            space -= 1\n",
    "            \n",
    "            # If selected space is available and in range, accept selection and terminate function\n",
    "            if is_valid(space, player):\n",
    "                break\n",
    "                \n",
    "            # Else repeat prompt\n",
    "            else:\n",
    "                continue\n",
    "                \n",
    "        except:\n",
    "            print(\"Please enter a valid number between 1 and 9\")"
   ]
  },
  {
   "cell_type": "code",
   "execution_count": 7,
   "metadata": {},
   "outputs": [],
   "source": [
    "# Adapted from Jose Portilla's Python bootcamp\n",
    "def win_check(mark):\n",
    "    \n",
    "    return ((board[6] == mark and board[7] == mark and board[8] == mark) or # across the bottom\n",
    "    (board[3] == mark and board[4] == mark and board[5] == mark) or # across the middle\n",
    "    (board[0] == mark and board[1] == mark and board[2] == mark) or # across the top\n",
    "    (board[0] == mark and board[3] == mark and board[6] == mark) or # down the left side\n",
    "    (board[1] == mark and board[4] == mark and board[7] == mark) or # down the middle\n",
    "    (board[2] == mark and board[5] == mark and board[8] == mark) or # down the right side\n",
    "    (board[2] == mark and board[4] == mark and board[6] == mark) or # diagonal\n",
    "    (board[0] == mark and board[4] == mark and board[8] == mark)) # diagonal"
   ]
  },
  {
   "cell_type": "code",
   "execution_count": 8,
   "metadata": {},
   "outputs": [
    {
     "name": "stdout",
     "output_type": "stream",
     "text": [
      " | | \n",
      " | | \n",
      " | | \n",
      "Player 1 is o, Player 2 is x\n"
     ]
    },
    {
     "name": "stdin",
     "output_type": "stream",
     "text": [
      "Player 1, choose your space between 1-9:  5\n"
     ]
    },
    {
     "name": "stdout",
     "output_type": "stream",
     "text": [
      " | | \n",
      " |o| \n",
      " | | \n"
     ]
    },
    {
     "name": "stdin",
     "output_type": "stream",
     "text": [
      "Player 2, choose your space between 1-9:  9\n"
     ]
    },
    {
     "name": "stdout",
     "output_type": "stream",
     "text": [
      " | | \n",
      " |o| \n",
      " | |x\n"
     ]
    },
    {
     "name": "stdin",
     "output_type": "stream",
     "text": [
      "Player 1, choose your space between 1-9:  6\n"
     ]
    },
    {
     "name": "stdout",
     "output_type": "stream",
     "text": [
      " | | \n",
      " |o|o\n",
      " | |x\n"
     ]
    },
    {
     "name": "stdin",
     "output_type": "stream",
     "text": [
      "Player 2, choose your space between 1-9:  4\n"
     ]
    },
    {
     "name": "stdout",
     "output_type": "stream",
     "text": [
      " | | \n",
      "x|o|o\n",
      " | |x\n"
     ]
    },
    {
     "name": "stdin",
     "output_type": "stream",
     "text": [
      "Player 1, choose your space between 1-9:  2\n"
     ]
    },
    {
     "name": "stdout",
     "output_type": "stream",
     "text": [
      " |o| \n",
      "x|o|o\n",
      " | |x\n"
     ]
    },
    {
     "name": "stdin",
     "output_type": "stream",
     "text": [
      "Player 2, choose your space between 1-9:  2\n"
     ]
    },
    {
     "name": "stdout",
     "output_type": "stream",
     "text": [
      "Sorry, that space is taken\n"
     ]
    },
    {
     "name": "stdin",
     "output_type": "stream",
     "text": [
      "Player 2, choose your space between 1-9:  9\n"
     ]
    },
    {
     "name": "stdout",
     "output_type": "stream",
     "text": [
      "Sorry, that space is taken\n"
     ]
    },
    {
     "name": "stdin",
     "output_type": "stream",
     "text": [
      "Player 2, choose your space between 1-9:  1\n"
     ]
    },
    {
     "name": "stdout",
     "output_type": "stream",
     "text": [
      "x|o| \n",
      "x|o|o\n",
      " | |x\n"
     ]
    },
    {
     "name": "stdin",
     "output_type": "stream",
     "text": [
      "Player 1, choose your space between 1-9:  7\n"
     ]
    },
    {
     "name": "stdout",
     "output_type": "stream",
     "text": [
      "x|o| \n",
      "x|o|o\n",
      "o| |x\n"
     ]
    },
    {
     "name": "stdin",
     "output_type": "stream",
     "text": [
      "Player 2, choose your space between 1-9:  8\n"
     ]
    },
    {
     "name": "stdout",
     "output_type": "stream",
     "text": [
      "x|o| \n",
      "x|o|o\n",
      "o|x|x\n"
     ]
    },
    {
     "name": "stdin",
     "output_type": "stream",
     "text": [
      "Player 1, choose your space between 1-9:  6\n"
     ]
    },
    {
     "name": "stdout",
     "output_type": "stream",
     "text": [
      "Sorry, that space is taken\n"
     ]
    },
    {
     "name": "stdin",
     "output_type": "stream",
     "text": [
      "Player 1, choose your space between 1-9:  3\n"
     ]
    },
    {
     "name": "stdout",
     "output_type": "stream",
     "text": [
      "x|o|o\n",
      "x|o|o\n",
      "o|x|x\n",
      "Player 1 wins!\n"
     ]
    }
   ],
   "source": [
    "# Create board\n",
    "draw_board(board)\n",
    "\n",
    "# Select which player goes first\n",
    "import random\n",
    "player_1 = random.choice(['x','o'])\n",
    "\n",
    "if player_1 == 'x':\n",
    "    player_2 = 'o'\n",
    "else:\n",
    "    player_2 = 'x'\n",
    "    \n",
    "print(f\"Player 1 is {player_1}, Player 2 is {player_2}\")\n",
    "\n",
    "# Play until someone wins or there is a draw\n",
    "while True:    \n",
    "   \n",
    "    # Player 1 moves\n",
    "    move(player_1, 1)    \n",
    "    if win_check(player_1):\n",
    "        print(\"Player 1 wins!\")\n",
    "        break   \n",
    "    elif ' ' not in board:\n",
    "        print(\"Tie game!\")\n",
    "        break\n",
    "    \n",
    "    # PLayer 2 moves\n",
    "    move(player_2, 2)\n",
    "    if win_check(player_2):\n",
    "        print(\"Player 2 wins!\")\n",
    "        break\n",
    "    elif ' ' not in board:\n",
    "        print(\"Tie game!\")\n",
    "        break\n"
   ]
  }
 ],
 "metadata": {
  "kernelspec": {
   "display_name": "Python 3",
   "language": "python",
   "name": "python3"
  },
  "language_info": {
   "codemirror_mode": {
    "name": "ipython",
    "version": 3
   },
   "file_extension": ".py",
   "mimetype": "text/x-python",
   "name": "python",
   "nbconvert_exporter": "python",
   "pygments_lexer": "ipython3",
   "version": "3.8.3"
  }
 },
 "nbformat": 4,
 "nbformat_minor": 4
}
