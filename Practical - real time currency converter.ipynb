{
 "cells": [
  {
   "cell_type": "code",
   "execution_count": null,
   "metadata": {},
   "outputs": [],
   "source": [
    "'''\n",
    "- Find a working API where we can access currencies (preferably with USD as the base currency) **important: the API must provide a json **\n",
    "- Create a programme that can take a users currency and amount, and convert it into USD\n",
    "\n",
    "'''"
   ]
  },
  {
   "cell_type": "code",
   "execution_count": 1,
   "metadata": {},
   "outputs": [],
   "source": [
    "import requests"
   ]
  },
  {
   "cell_type": "code",
   "execution_count": 2,
   "metadata": {},
   "outputs": [],
   "source": [
    "# Access exchange rate API and use USD as base currency\n",
    "url = \"https://v6.exchangerate-api.com/v6/6b45f0b2076eba5e7f7805d7/latest/USD\"\n",
    "response = requests.get(url)\n",
    "\n",
    "# Access data in json format\n",
    "data = response.json()"
   ]
  },
  {
   "cell_type": "code",
   "execution_count": 3,
   "metadata": {},
   "outputs": [
    {
     "name": "stdout",
     "output_type": "stream",
     "text": [
      "{'result': 'success', 'documentation': 'https://www.exchangerate-api.com/docs', 'terms_of_use': 'https://www.exchangerate-api.com/terms', 'time_last_update_unix': 1620345601, 'time_last_update_utc': 'Fri, 07 May 2021 00:00:01 +0000', 'time_next_update_unix': 1620432001, 'time_next_update_utc': 'Sat, 08 May 2021 00:00:01 +0000', 'base_code': 'USD', 'conversion_rates': {'USD': 1, 'AED': 3.6725, 'AFN': 77.5994, 'ALL': 102.361, 'AMD': 520.8458, 'ANG': 1.79, 'AOA': 651.4066, 'ARS': 93.6505, 'AUD': 1.2884, 'AWG': 1.79, 'AZN': 1.6963, 'BAM': 1.622, 'BBD': 2.0, 'BDT': 84.6933, 'BGN': 1.6231, 'BHD': 0.376, 'BIF': 1963.095, 'BMD': 1.0, 'BND': 1.3337, 'BOB': 6.8783, 'BRL': 5.3526, 'BSD': 1.0, 'BTN': 73.7787, 'BWP': 10.872, 'BYN': 2.5453, 'BZD': 2.0, 'CAD': 1.22, 'CDF': 1981.4685, 'CHF': 0.9095, 'CLP': 704.1968, 'CNY': 6.4726, 'COP': 3841.2384, 'CRC': 613.391, 'CUC': 1.0, 'CUP': 25.75, 'CVE': 91.4443, 'CZK': 21.4404, 'DJF': 177.721, 'DKK': 6.187, 'DOP': 56.9936, 'DZD': 133.3506, 'EGP': 15.6487, 'ERN': 15.0, 'ETB': 42.4127, 'EUR': 0.8293, 'FJD': 2.0286, 'FKP': 0.7188, 'FOK': 6.187, 'GBP': 0.7188, 'GEL': 3.4376, 'GGP': 0.7188, 'GHS': 5.7654, 'GIP': 0.7188, 'GMD': 51.8313, 'GNF': 9856.0091, 'GTQ': 7.7051, 'GYD': 212.235, 'HKD': 7.7715, 'HNL': 23.9623, 'HRK': 6.2485, 'HTG': 86.0418, 'HUF': 298.3154, 'IDR': 14294.2577, 'ILS': 3.272, 'IMP': 0.7188, 'INR': 73.7793, 'IQD': 1455.4015, 'IRR': 41899.1836, 'ISK': 125.3872, 'JMD': 152.4779, 'JOD': 0.709, 'JPY': 109.1952, 'KES': 106.7808, 'KGS': 84.7118, 'KHR': 4038.6619, 'KID': 1.2884, 'KMF': 407.9956, 'KRW': 1123.7847, 'KWD': 0.2996, 'KYD': 0.8333, 'KZT': 426.299, 'LAK': 9390.7016, 'LBP': 1507.5, 'LKR': 196.7387, 'LRD': 171.6602, 'LSL': 14.2505, 'LYD': 4.4753, 'MAD': 8.8851, 'MDL': 17.8052, 'MGA': 3773.4403, 'MKD': 51.2839, 'MMK': 1556.0173, 'MNT': 2837.0019, 'MOP': 8.0046, 'MRU': 35.9246, 'MUR': 40.5643, 'MVR': 15.398, 'MWK': 792.1655, 'MXN': 20.185, 'MYR': 4.119, 'MZN': 57.7673, 'NAD': 14.2505, 'NGN': 393.3675, 'NIO': 34.8691, 'NOK': 8.3286, 'NPR': 118.0459, 'NZD': 1.385, 'OMR': 0.3845, 'PAB': 1.0, 'PEN': 3.8191, 'PGK': 3.5204, 'PHP': 47.9806, 'PKR': 152.4996, 'PLN': 3.8017, 'PYG': 6747.6828, 'QAR': 3.64, 'RON': 4.087, 'RSD': 97.6232, 'RUB': 74.5375, 'RWF': 999.3624, 'SAR': 3.75, 'SBD': 7.9161, 'SCR': 14.9815, 'SDG': 380.4419, 'SEK': 8.4546, 'SGD': 1.3337, 'SHP': 0.7188, 'SLL': 10199.5161, 'SOS': 576.9517, 'SRD': 14.1166, 'SSP': 177.5451, 'STN': 20.3182, 'SYP': 1473.9006, 'SZL': 14.2505, 'THB': 31.2468, 'TJS': 11.3301, 'TMT': 3.4963, 'TND': 2.7431, 'TOP': 2.258, 'TRY': 8.3139, 'TTD': 6.7783, 'TVD': 1.2884, 'TWD': 27.9325, 'TZS': 2315.0019, 'UAH': 27.6963, 'UGX': 3551.7021, 'UYU': 43.9222, 'UZS': 10445.0916, 'VES': 2851422.2258, 'VND': 23074.1953, 'VUV': 108.3823, 'WST': 2.5086, 'XAF': 543.9942, 'XCD': 2.7, 'XDR': 0.697, 'XOF': 543.9942, 'XPF': 98.9637, 'YER': 250.3988, 'ZAR': 14.2507, 'ZMW': 22.332}}\n"
     ]
    }
   ],
   "source": [
    "print(data)"
   ]
  },
  {
   "cell_type": "code",
   "execution_count": 4,
   "metadata": {},
   "outputs": [
    {
     "name": "stdout",
     "output_type": "stream",
     "text": [
      "20.185\n"
     ]
    }
   ],
   "source": [
    "print(data['conversion_rates']['MXN'])"
   ]
  },
  {
   "cell_type": "code",
   "execution_count": 18,
   "metadata": {},
   "outputs": [
    {
     "name": "stdin",
     "output_type": "stream",
     "text": [
      "Enter the USD amount:  250\n",
      "Select a currency:  cny\n"
     ]
    }
   ],
   "source": [
    "# Prompt user to enter USD amount and currency to convert it to\n",
    "amount = float(input(\"Enter the USD amount: \"))\n",
    "select_currency = input(\"Select a currency: \")"
   ]
  },
  {
   "cell_type": "code",
   "execution_count": 19,
   "metadata": {},
   "outputs": [
    {
     "name": "stdout",
     "output_type": "stream",
     "text": [
      "250.0 USD is worth 1618.15 CNY\n"
     ]
    }
   ],
   "source": [
    "# If currency is available, convert dollar amount to selected currency\n",
    "\n",
    "found = False\n",
    "\n",
    "for currency, rate in data['conversion_rates'].items():\n",
    "    \n",
    "    if select_currency.upper() == currency:\n",
    "        \n",
    "        # Display converted amount rounded to 2 decimals\n",
    "        print(f\"{amount} USD is worth {round((amount * rate),2)} {currency}\")\n",
    "        found = True\n",
    "\n",
    "if not found:\n",
    "    print(\"Sorry, currency not found\")"
   ]
  },
  {
   "cell_type": "code",
   "execution_count": null,
   "metadata": {},
   "outputs": [],
   "source": []
  }
 ],
 "metadata": {
  "kernelspec": {
   "display_name": "Python 3",
   "language": "python",
   "name": "python3"
  },
  "language_info": {
   "codemirror_mode": {
    "name": "ipython",
    "version": 3
   },
   "file_extension": ".py",
   "mimetype": "text/x-python",
   "name": "python",
   "nbconvert_exporter": "python",
   "pygments_lexer": "ipython3",
   "version": "3.8.3"
  }
 },
 "nbformat": 4,
 "nbformat_minor": 4
}
