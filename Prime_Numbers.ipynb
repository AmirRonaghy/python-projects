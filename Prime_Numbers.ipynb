{
 "cells": [
  {
   "cell_type": "markdown",
   "metadata": {},
   "source": [
    "# Prime Factorization"
   ]
  },
  {
   "cell_type": "markdown",
   "metadata": {},
   "source": [
    "Have the user enter a number and find all Prime Factors (if there are any) and display them."
   ]
  },
  {
   "cell_type": "markdown",
   "metadata": {},
   "source": [
    "A Prime Number is a whole number that cannot be made by multiplying other whole numbers. If we can make it by multiplying other whole numbers it is a Composite Number."
   ]
  },
  {
   "cell_type": "code",
   "execution_count": 29,
   "metadata": {},
   "outputs": [],
   "source": [
    "def find_prime():\n",
    "    \n",
    "    while True:\n",
    "\n",
    "        #Store prime numbers in a list\n",
    "        prime_numbers = []\n",
    "\n",
    "        try:\n",
    "            #User enters whole number\n",
    "            num = int(input(\"Please enter a whole number: \"))\n",
    "\n",
    "            #Loop through range of numbers from 2 to number entered by user\n",
    "            for n in range(2,num+1):       \n",
    "\n",
    "                #Check if n can be divided by any smaller whole number\n",
    "                #If n/i >= 1 for all numbers in range, append n to prime numbers list\n",
    "                if all(n%i for i in range(2,n)):        \n",
    "                    prime_numbers.append(n)\n",
    "                #Else continue to next n value\n",
    "                else:\n",
    "                    pass\n",
    "        except:\n",
    "            print(\"Invalid entry\")\n",
    "            continue\n",
    "        else:\n",
    "            return prime_numbers\n"
   ]
  },
  {
   "cell_type": "code",
   "execution_count": 30,
   "metadata": {},
   "outputs": [
    {
     "name": "stdin",
     "output_type": "stream",
     "text": [
      "Please enter a whole number:  dog\n"
     ]
    },
    {
     "name": "stdout",
     "output_type": "stream",
     "text": [
      "Invalid entry\n"
     ]
    },
    {
     "name": "stdin",
     "output_type": "stream",
     "text": [
      "Please enter a whole number:  100\n"
     ]
    },
    {
     "data": {
      "text/plain": [
       "[2,\n",
       " 3,\n",
       " 5,\n",
       " 7,\n",
       " 11,\n",
       " 13,\n",
       " 17,\n",
       " 19,\n",
       " 23,\n",
       " 29,\n",
       " 31,\n",
       " 37,\n",
       " 41,\n",
       " 43,\n",
       " 47,\n",
       " 53,\n",
       " 59,\n",
       " 61,\n",
       " 67,\n",
       " 71,\n",
       " 73,\n",
       " 79,\n",
       " 83,\n",
       " 89,\n",
       " 97]"
      ]
     },
     "execution_count": 30,
     "metadata": {},
     "output_type": "execute_result"
    }
   ],
   "source": [
    "find_prime()"
   ]
  },
  {
   "cell_type": "code",
   "execution_count": null,
   "metadata": {},
   "outputs": [],
   "source": []
  }
 ],
 "metadata": {
  "kernelspec": {
   "display_name": "Python 3",
   "language": "python",
   "name": "python3"
  },
  "language_info": {
   "codemirror_mode": {
    "name": "ipython",
    "version": 3
   },
   "file_extension": ".py",
   "mimetype": "text/x-python",
   "name": "python",
   "nbconvert_exporter": "python",
   "pygments_lexer": "ipython3",
   "version": "3.8.3"
  }
 },
 "nbformat": 4,
 "nbformat_minor": 4
}
