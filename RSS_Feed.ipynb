{
 "cells": [
  {
   "cell_type": "markdown",
   "metadata": {},
   "source": [
    "# RSS Feed Creator"
   ]
  },
  {
   "cell_type": "markdown",
   "metadata": {},
   "source": [
    "Given a link to RSS/Atom Feed, get all posts and display them."
   ]
  },
  {
   "cell_type": "code",
   "execution_count": 1,
   "metadata": {},
   "outputs": [],
   "source": [
    "# Import feedparser library\n",
    "import feedparser"
   ]
  },
  {
   "cell_type": "code",
   "execution_count": 3,
   "metadata": {},
   "outputs": [],
   "source": [
    "# Store RSS feed as variable\n",
    "NewsFeed = feedparser.parse('https://www.lemonde.fr/international/rss_full.xml')"
   ]
  },
  {
   "cell_type": "code",
   "execution_count": 6,
   "metadata": {},
   "outputs": [
    {
     "name": "stdout",
     "output_type": "stream",
     "text": [
      "dict_keys(['title', 'title_detail', 'published', 'published_parsed', 'summary', 'summary_detail', 'id', 'guidislink', 'link', 'links', 'media_content', 'content', 'media_credit', 'credit'])\n"
     ]
    }
   ],
   "source": [
    "# Review keys for an RSS feed entry\n",
    "entry = NewsFeed.entries[1]\n",
    "print(entry.keys())"
   ]
  },
  {
   "cell_type": "code",
   "execution_count": 8,
   "metadata": {},
   "outputs": [
    {
     "name": "stdout",
     "output_type": "stream",
     "text": [
      "Titre de l'article:  Warner sortira ses films à la fois en streaming et au cinéma en 2021\n"
     ]
    }
   ],
   "source": [
    "# Print title of the entry\n",
    "print(\"Titre de l'article: \", entry.title)"
   ]
  },
  {
   "cell_type": "code",
   "execution_count": 15,
   "metadata": {},
   "outputs": [
    {
     "data": {
      "text/plain": [
       "{'title': 'Les bailleurs de fonds refusent de renflouer le Liban sans réformes',\n",
       " 'title_detail': {'type': 'text/plain',\n",
       "  'language': None,\n",
       "  'base': 'https://www.lemonde.fr/international/rss_full.xml',\n",
       "  'value': 'Les bailleurs de fonds refusent de renflouer le Liban sans réformes'},\n",
       " 'published': 'Thu, 03 Dec 2020 10:57:29 +0100',\n",
       " 'published_parsed': time.struct_time(tm_year=2020, tm_mon=12, tm_mday=3, tm_hour=9, tm_min=57, tm_sec=29, tm_wday=3, tm_yday=338, tm_isdst=0),\n",
       " 'summary': 'La communauté internationale, qui a débloqué 280 millions d’euros d’aide d’urgence, s’appuie sur l’ONU et les ONG pour la réponse humanitaire.',\n",
       " 'summary_detail': {'type': 'text/html',\n",
       "  'language': None,\n",
       "  'base': 'https://www.lemonde.fr/international/rss_full.xml',\n",
       "  'value': 'La communauté internationale, qui a débloqué 280 millions d’euros d’aide d’urgence, s’appuie sur l’ONU et les ONG pour la réponse humanitaire.'},\n",
       " 'id': 'https://www.lemonde.fr/international/article/2020/12/03/les-bailleurs-de-fonds-refusent-de-renflouer-le-liban-sans-reformes_6062035_3210.html',\n",
       " 'guidislink': True,\n",
       " 'link': 'https://www.lemonde.fr/international/article/2020/12/03/les-bailleurs-de-fonds-refusent-de-renflouer-le-liban-sans-reformes_6062035_3210.html',\n",
       " 'links': [{'rel': 'alternate',\n",
       "   'type': 'text/html',\n",
       "   'href': 'https://www.lemonde.fr/international/article/2020/12/03/les-bailleurs-de-fonds-refusent-de-renflouer-le-liban-sans-reformes_6062035_3210.html'}],\n",
       " 'media_content': [{'url': 'https://img.lemde.fr/2020/12/03/201/0/3500/1750/644/322/60/0/8154a56_638017289-922588.jpg',\n",
       "   'width': '644',\n",
       "   'height': '322'}],\n",
       " 'content': [{'type': 'text/plain',\n",
       "   'language': None,\n",
       "   'base': 'https://www.lemonde.fr/international/rss_full.xml',\n",
       "   'value': 'Emmanuel Macron lors de la conférence organisée à l’initiative de Paris sur le Liban, mercredi 2 décembre à l’Elysée.'}],\n",
       " 'media_credit': [{'scheme': 'urn:ebu', 'content': 'POOL / REUTERS'}],\n",
       " 'credit': 'POOL / REUTERS'}"
      ]
     },
     "execution_count": 15,
     "metadata": {},
     "output_type": "execute_result"
    }
   ],
   "source": [
    "# Review all contents of entry\n",
    "entry"
   ]
  },
  {
   "cell_type": "code",
   "execution_count": 10,
   "metadata": {},
   "outputs": [],
   "source": [
    "# Store all entries as variable\n",
    "entries = NewsFeed.entries"
   ]
  },
  {
   "cell_type": "code",
   "execution_count": 32,
   "metadata": {},
   "outputs": [
    {
     "name": "stdout",
     "output_type": "stream",
     "text": [
      "\n",
      "*******************************************************\n",
      "Fri, 04 Dec 2020 03:29:58 +0100\n",
      "\n",
      "Titre:  En Roumanie, des élections sur fond de coronavirus et de misère des hôpitaux\n",
      "\n",
      "Summaire:  Alors que la pandémie bat de nouveaux records, la situation déplorable du système de santé est au cœur du scrutin législatif du 6 décembre.\n",
      "\n",
      "Lire plus:  https://www.lemonde.fr/international/article/2020/12/04/en-roumanie-des-elections-sur-fond-de-coronavirus-et-de-misere-des-hopitaux_6062116_3210.html\n",
      " \n",
      "\n",
      "*******************************************************\n",
      "Fri, 04 Dec 2020 02:42:32 +0100\n",
      "\n",
      "Titre:  Warner sortira ses films à la fois en streaming et au cinéma en 2021\n",
      "\n",
      "Summaire:  Qualifiée de « plus grand séisme que l’industrie du cinéma ait jamais connu » par un expert, cette annonce ne s’appliquera dans l’immédiat qu’aux Etats-Unis.\n",
      "\n",
      "Lire plus:  https://www.lemonde.fr/culture/article/2020/12/04/warner-sortira-ses-films-a-la-fois-en-streaming-et-au-cinema-en-2021_6062111_3246.html\n",
      " \n",
      "\n",
      "*******************************************************\n",
      "Thu, 03 Dec 2020 23:13:02 +0100\n",
      "\n",
      "Titre:  En Russie, le premier procès de l’excision\n",
      "\n",
      "Summaire:  Environ 1 300 petites filles seraient victimes de cette mutilation génitale chaque année essentiellement dans le Caucase. Un drame qui reste largement ignoré et impuni en Russie.\n",
      "\n",
      "Lire plus:  https://www.lemonde.fr/international/article/2020/12/03/en-russie-le-premier-proces-de-l-excision_6062107_3210.html\n",
      " \n",
      "\n",
      "*******************************************************\n",
      "Thu, 03 Dec 2020 22:05:50 +0100\n",
      "\n",
      "Titre:  Au Nicaragua, 1 600 personnes ont été détenues arbitrairement depuis 2018\n",
      "\n",
      "Summaire:  Un rapport pointe des conditions de détention exécrables et des « traitements cruels, inhumains ou dégradants, dont certains pourraient s’assimiler à de la torture ».\n",
      "\n",
      "Lire plus:  https://www.lemonde.fr/international/article/2020/12/03/au-nicaragua-1-600-personnes-ont-ete-detenues-arbitrairement-depuis-2018_6062105_3210.html\n",
      " \n",
      "\n",
      "*******************************************************\n",
      "Thu, 03 Dec 2020 20:22:08 +0100\n",
      "\n",
      "Titre:  La pollution de l’océan fait proliférer virus et algues toxiques\n",
      "\n",
      "Summaire:  Dans une importante synthèse rendue publique à l’occasion d’un symposium sur l’océan, le 3 décembre à Monaco, les scientifiques alertent une nouvelle fois sur la dégradation du milieu marin.\n",
      "\n",
      "Lire plus:  https://www.lemonde.fr/planete/article/2020/12/03/la-pollution-de-l-ocean-fait-proliferer-virus-et-algues-toxiques_6062097_3244.html\n",
      " \n",
      "\n",
      "*******************************************************\n",
      "Thu, 03 Dec 2020 20:00:12 +0100\n",
      "\n",
      "Titre:  Election présidentielle en Centrafrique : François Bozizé exclu du scrutin\n",
      "\n",
      "Summaire:  La Cour constitutionnelle a invalidé la candidature de l’ancien président putschiste, s’appuyant sur le mandat d’arrêt international qui pèse sur lui depuis le 31 mars 2014.\n",
      "\n",
      "Lire plus:  https://www.lemonde.fr/afrique/article/2020/12/03/presidentielle-en-centrafrique-francois-bozize-exclu-du-scrutin_6062094_3212.html\n",
      " \n",
      "\n",
      "*******************************************************\n",
      "Thu, 03 Dec 2020 19:51:47 +0100\n",
      "\n",
      "Titre:  Pétrole : l’OPEP et la Russie signent un accord fragile\n",
      "\n",
      "Summaire:  Le cartel pétrolier et son allié se sont mis d’accord, dans un climat tendu, pour augmenter légèrement la production en janvier 2021.\n",
      "\n",
      "Lire plus:  https://www.lemonde.fr/economie/article/2020/12/03/petrole-l-opep-et-la-russie-signent-un-accord-fragile_6062091_3234.html\n",
      " \n",
      "\n",
      "*******************************************************\n",
      "Thu, 03 Dec 2020 18:53:25 +0100\n",
      "\n",
      "Titre:  Covid-19 : en Espagne, Amnesty International dénonce les violations de droits infligées aux personnes âgées dépendantes\n",
      "\n",
      "Summaire:  Selon l’ONG, dans les Ehpad de Madrid et Catalogne, ont été bafoués le droit à la santé, à la vie, à la non-discrimination des personnes âgées, à la vie privée et familiale et le droit à une mort digne.\n",
      "\n",
      "Lire plus:  https://www.lemonde.fr/planete/article/2020/12/03/covid-19-en-espagne-amnesty-international-denonce-les-violations-de-droits-infligees-aux-personnes-agees-dependantes_6062088_3244.html\n",
      " \n",
      "\n",
      "*******************************************************\n",
      "Thu, 03 Dec 2020 18:39:33 +0100\n",
      "\n",
      "Titre:  Accord entre l’Union européenne et la Grèce pour un nouveau camp d’accueil pour migrants à Lesbos en 2021\n",
      "\n",
      "Summaire:  Le camp de Moria avait été ravagé par un incendie au mois de septembre 2020. Un campement provisoire, où se trouve 7 300 demandeurs d’asile, a depuis été établi sur l’île.\n",
      "\n",
      "Lire plus:  https://www.lemonde.fr/international/article/2020/12/03/accord-entre-l-union-europeenne-et-la-grece-pour-un-nouveau-camp-a-lesbos-en-septembre-2021_6062087_3210.html\n",
      " \n",
      "\n",
      "*******************************************************\n",
      "Thu, 03 Dec 2020 14:50:14 +0100\n",
      "\n",
      "Titre:  Covid-19 : le Japon lancera fin mars sa campagne de vaccination\n",
      "\n",
      "Summaire:  Alors que le pays est confronté à une troisième vague de contaminations, le gouvernement a choisi de rendre les vaccins contre le coronavirus gratuits et non obligatoires.\n",
      "\n",
      "Lire plus:  https://www.lemonde.fr/planete/article/2020/12/03/covid-19-le-japon-lancera-fin-mars-sa-campagne-de-vaccination_6062066_3244.html\n",
      " \n",
      "\n",
      "*******************************************************\n",
      "Thu, 03 Dec 2020 14:11:41 +0100\n",
      "\n",
      "Titre:  En Grèce, le décompte controversé des cas de Covid-19\n",
      "\n",
      "Summaire:  Une enquête a été ouverte par Athènes sur le nombre de cas liés à l’épidémie due au coronavirus, qui serait erroné en raison de l’existence de deux listes parallèles.\n",
      "\n",
      "Lire plus:  https://www.lemonde.fr/international/article/2020/12/03/grece-polemique-sur-le-decompte-des-cas-de-covid-19_6062063_3210.html\n",
      " \n",
      "\n",
      "*******************************************************\n",
      "Thu, 03 Dec 2020 14:01:39 +0100\n",
      "\n",
      "Titre:  « La France ne peut rester silencieuse face à l’escalade répressive du gouvernement égyptien »\n",
      "\n",
      "Summaire:  Dans une tribune au « Monde », un collectif de plus de cinq cents personnalités d’horizons variés appelle Emmanuel Macron, lors de la prochaine visite officielle du président égyptien, Abdel Fattah Al-Sissi, à réclamer notamment la libération de défenseurs des droits humains arrêtés en novembre.\n",
      "\n",
      "Lire plus:  https://www.lemonde.fr/idees/article/2020/12/03/la-france-ne-peut-rester-silencieuse-face-a-l-escalade-repressive-du-gouvernement-egyptien_6062062_3232.html\n",
      " \n",
      "\n",
      "*******************************************************\n",
      "Thu, 03 Dec 2020 13:03:16 +0100\n",
      "\n",
      "Titre:  Liban : « La crise peut être l’occasion d’une transformation radicale du système d’aide internationale »\n",
      "\n",
      "Summaire:  La communauté internationale doit soutenir la création d’un consortium regroupant les pays donateurs et les organisations de la société civile, estime, dans une tribune au « Monde », Clothilde Facon, doctorante en sociologie politique, qui appelle à s’appuyer sur les acteurs de terrain plutôt que sur une « caste politique corrompue ».\n",
      "\n",
      "Lire plus:  https://www.lemonde.fr/idees/article/2020/12/03/liban-la-crise-peut-etre-l-occasion-d-une-transformation-radicale-du-systeme-d-aide-internationale_6062058_3232.html\n",
      " \n",
      "\n",
      "*******************************************************\n",
      "Thu, 03 Dec 2020 12:24:18 +0100\n",
      "\n",
      "Titre:  Brexit : Londres joue la montre, Bruxelles s’impatiente\n",
      "\n",
      "Summaire:  En l’absence d’avancées notables à l’approche de la phase finale des négociations, des Etats membres de l’UE s’inquiètent de voir leurs intérêts moins bien défendus.\n",
      "\n",
      "Lire plus:  https://www.lemonde.fr/international/article/2020/12/03/brexit-londres-joue-la-montre-bruxelles-s-impatiente_6062055_3210.html\n",
      " \n",
      "\n",
      "*******************************************************\n",
      "Thu, 03 Dec 2020 12:17:05 +0100\n",
      "\n",
      "Titre:  « Ils ont agi par amour de Hongkong » : la souffrance et l’espoir des jeunes militants incarcérés\n",
      "\n",
      "Summaire:  De nombreux défenseurs du mouvement prodémocratie, condamnés à des peines de prison pour avoir protesté contre le régime, voient leur vie bouleversée mais n’expriment aucun regret.\n",
      "\n",
      "Lire plus:  https://www.lemonde.fr/international/article/2020/12/03/ils-ont-agi-par-amour-de-hongkong-la-souffrance-et-l-espoir-des-jeunes-militants-incarceres_6062054_3210.html\n",
      " \n",
      "\n",
      "*******************************************************\n",
      "Thu, 03 Dec 2020 11:45:06 +0100\n",
      "\n",
      "Titre:  Tempête politique sur une chaîne d’information de Hongkong\n",
      "\n",
      "Summaire:  La direction d’i-Cable News, de plus en plus proche de la Chine, a licencié, mardi, toute la cellule d’investigation, entraînant une vague de démissions par solidarité.\n",
      "\n",
      "Lire plus:  https://www.lemonde.fr/international/article/2020/12/03/tempete-politique-sur-une-chaine-d-information-de-hongkong_6062049_3210.html\n",
      " \n",
      "\n",
      "*******************************************************\n",
      "Thu, 03 Dec 2020 11:36:19 +0100\n",
      "\n",
      "Titre:  Gestion du Covid-19 : une requête contre la France jugée irrecevable par la CEDH\n",
      "\n",
      "Summaire:  Un particulier contestait la gestion de la crise sanitaire par la France. La Cour européenne des droits de l’homme a jugé qu’il n’avait pas démontré en quoi cela l’avait affecté personnellement.\n",
      "\n",
      "Lire plus:  https://www.lemonde.fr/planete/article/2020/12/03/gestion-de-la-crise-sanitaire-du-covid-19-une-requete-contre-la-france-jugee-irrecevable-par-la-cedh_6062048_3244.html\n",
      " \n",
      "\n",
      "*******************************************************\n",
      "Thu, 03 Dec 2020 11:13:03 +0100\n",
      "\n",
      "Titre:  Le Conseil de l’Europe dénonce « un modèle de stigmatisation généralisé » contre les LGBTI en Pologne\n",
      "\n",
      "Summaire:  Un rapport de la commissaire aux droits de l’homme met en avant l’aggravation des discours homophobes délibérément encouragés au « plus haut niveau » de l’Etat.\n",
      "\n",
      "Lire plus:  https://www.lemonde.fr/international/article/2020/12/03/le-conseil-de-l-europe-denonce-un-modele-de-stigmatisation-generalise-contre-les-lgbti-en-pologne_6062041_3210.html\n",
      " \n",
      "\n",
      "*******************************************************\n",
      "Thu, 03 Dec 2020 11:10:46 +0100\n",
      "\n",
      "Titre:  La Turquie durcit les restrictions face à la flambée du Covid-19\n",
      "\n",
      "Summaire:  L’Association des médecins de Turquie estime que les autorités minimisent la gravité de la situation et appelle à un confinement total.\n",
      "\n",
      "Lire plus:  https://www.lemonde.fr/international/article/2020/12/03/la-turquie-durcit-les-restrictions-face-a-la-flambee-du-covid-19_6062040_3210.html\n",
      " \n",
      "\n",
      "*******************************************************\n",
      "Thu, 03 Dec 2020 10:57:29 +0100\n",
      "\n",
      "Titre:  Les bailleurs de fonds refusent de renflouer le Liban sans réformes\n",
      "\n",
      "Summaire:  La communauté internationale, qui a débloqué 280 millions d’euros d’aide d’urgence, s’appuie sur l’ONU et les ONG pour la réponse humanitaire.\n",
      "\n",
      "Lire plus:  https://www.lemonde.fr/international/article/2020/12/03/les-bailleurs-de-fonds-refusent-de-renflouer-le-liban-sans-reformes_6062035_3210.html\n",
      " \n"
     ]
    }
   ],
   "source": [
    "# Display timestamp, title, summary and URL for each entry\n",
    "for entry in entries:\n",
    "    print(\"\\n*******************************************************\")\n",
    "    print(entry.published)\n",
    "    print(\"\\nTitre: \", entry.title)\n",
    "    print(\"\\nSummaire: \", entry.summary)\n",
    "    print(\"\\nLire plus: \",entry.link)\n",
    "    print(\" \")\n"
   ]
  },
  {
   "cell_type": "code",
   "execution_count": null,
   "metadata": {},
   "outputs": [],
   "source": []
  }
 ],
 "metadata": {
  "kernelspec": {
   "display_name": "Python 3",
   "language": "python",
   "name": "python3"
  },
  "language_info": {
   "codemirror_mode": {
    "name": "ipython",
    "version": 3
   },
   "file_extension": ".py",
   "mimetype": "text/x-python",
   "name": "python",
   "nbconvert_exporter": "python",
   "pygments_lexer": "ipython3",
   "version": "3.8.3"
  }
 },
 "nbformat": 4,
 "nbformat_minor": 4
}
