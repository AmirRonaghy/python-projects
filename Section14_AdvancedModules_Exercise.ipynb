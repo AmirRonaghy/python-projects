{
 "cells": [
  {
   "cell_type": "markdown",
   "metadata": {},
   "source": [
    "# Advanced Modules Exercise"
   ]
  },
  {
   "cell_type": "code",
   "execution_count": 1,
   "metadata": {},
   "outputs": [],
   "source": [
    "import os"
   ]
  },
  {
   "cell_type": "code",
   "execution_count": 2,
   "metadata": {},
   "outputs": [
    {
     "data": {
      "text/plain": [
       "'C:\\\\Users\\\\arona\\\\OneDrive\\\\Academic\\\\Udemy\\\\Python Bootcamp\\\\Complete-Python-3-Bootcamp-master\\\\12-Advanced Python Modules\\\\08-Advanced-Python-Module-Exercise'"
      ]
     },
     "execution_count": 2,
     "metadata": {},
     "output_type": "execute_result"
    }
   ],
   "source": [
    "os.getcwd()"
   ]
  },
  {
   "cell_type": "code",
   "execution_count": 3,
   "metadata": {},
   "outputs": [],
   "source": [
    "#Open zip file\n",
    "import zipfile"
   ]
  },
  {
   "cell_type": "code",
   "execution_count": 4,
   "metadata": {},
   "outputs": [],
   "source": [
    "zip_obj = zipfile.ZipFile('unzip_me_for_instructions.zip','r')"
   ]
  },
  {
   "cell_type": "code",
   "execution_count": 5,
   "metadata": {},
   "outputs": [],
   "source": [
    "zip_obj.extractall(\"extracted_content\")"
   ]
  },
  {
   "cell_type": "code",
   "execution_count": 8,
   "metadata": {},
   "outputs": [
    {
     "name": "stdout",
     "output_type": "stream",
     "text": [
      "Currently looking at folder: C:\\Users\\arona\\OneDrive\\Academic\\Udemy\\Python Bootcamp\\Complete-Python-3-Bootcamp-master\\12-Advanced Python Modules\\08-Advanced-Python-Module-Exercise\\extracted_content\\extracted_content\n",
      "\t Subfolder: .ipynb_checkpoints\n",
      "\t Subfolder: Five\n",
      "\t Subfolder: Four\n",
      "\t Subfolder: One\n",
      "\t Subfolder: Three\n",
      "\t Subfolder: Two\n",
      "\n",
      "\n",
      "\n",
      "\n",
      "Currently looking at folder: C:\\Users\\arona\\OneDrive\\Academic\\Udemy\\Python Bootcamp\\Complete-Python-3-Bootcamp-master\\12-Advanced Python Modules\\08-Advanced-Python-Module-Exercise\\extracted_content\\extracted_content\\.ipynb_checkpoints\n",
      "\n",
      "\n",
      "\n",
      "\n",
      "Currently looking at folder: C:\\Users\\arona\\OneDrive\\Academic\\Udemy\\Python Bootcamp\\Complete-Python-3-Bootcamp-master\\12-Advanced Python Modules\\08-Advanced-Python-Module-Exercise\\extracted_content\\extracted_content\\Five\n",
      "\n",
      "\n",
      "\n",
      "\n",
      "Currently looking at folder: C:\\Users\\arona\\OneDrive\\Academic\\Udemy\\Python Bootcamp\\Complete-Python-3-Bootcamp-master\\12-Advanced Python Modules\\08-Advanced-Python-Module-Exercise\\extracted_content\\extracted_content\\Four\n",
      "\n",
      "\n",
      "\t The phone number is in this subfolder!\n",
      "\t File:  EMTGPSXQEJX.txt  Phone Number:  719-266-2837\n",
      "\n",
      "\n",
      "Currently looking at folder: C:\\Users\\arona\\OneDrive\\Academic\\Udemy\\Python Bootcamp\\Complete-Python-3-Bootcamp-master\\12-Advanced Python Modules\\08-Advanced-Python-Module-Exercise\\extracted_content\\extracted_content\\One\n",
      "\n",
      "\n",
      "\n",
      "\n",
      "Currently looking at folder: C:\\Users\\arona\\OneDrive\\Academic\\Udemy\\Python Bootcamp\\Complete-Python-3-Bootcamp-master\\12-Advanced Python Modules\\08-Advanced-Python-Module-Exercise\\extracted_content\\extracted_content\\Three\n",
      "\n",
      "\n",
      "\n",
      "\n",
      "Currently looking at folder: C:\\Users\\arona\\OneDrive\\Academic\\Udemy\\Python Bootcamp\\Complete-Python-3-Bootcamp-master\\12-Advanced Python Modules\\08-Advanced-Python-Module-Exercise\\extracted_content\\extracted_content\\Two\n",
      "\n",
      "\n",
      "\n",
      "\n"
     ]
    }
   ],
   "source": [
    "#Open all files in all subfolders\n",
    "#Extract and print phone number from each file\n",
    "\n",
    "import re #regex library\n",
    "\n",
    "file_path = 'C:\\\\Users\\\\arona\\\\OneDrive\\\\Academic\\\\Udemy\\\\Python Bootcamp\\\\Complete-Python-3-Bootcamp-master\\\\12-Advanced Python Modules\\\\08-Advanced-Python-Module-Exercise\\\\extracted_content\\\\extracted_content'\n",
    "searching = True\n",
    "\n",
    "while searching:\n",
    "\n",
    "    for folder , sub_folders , files in os.walk(file_path):\n",
    "\n",
    "        print(\"Currently looking at folder: \"+ folder)\n",
    "        #confirm correct subfolders are being searched\n",
    "        for sub_fold in sub_folders:\n",
    "            print(\"\\t Subfolder: \"+sub_fold )\n",
    "\n",
    "        print('\\n')\n",
    "\n",
    "        #open and process each file\n",
    "        for f in files:\n",
    "            #create concatenated file path for use with 'open' function \n",
    "            full_path = os.path.join(folder + '\\\\' + f) \n",
    "            #open file\n",
    "            with open(full_path) as file:\n",
    "                text = file.read() #open file contents\n",
    "                phone = re.search(r'\\d{3}-\\d{3}-\\d{4}',text) #regex pattern matching\n",
    "                #if phone number is in file, display it                \n",
    "                if phone != None: \n",
    "                    print(\"\\t The phone number is in this subfolder!\")\n",
    "                    print(\"\\t File: \", f ,\" Phone Number: \", phone.group())\n",
    "                    searching = False\n",
    "                    break\n",
    "                else:         \n",
    "                    pass\n",
    "                file.close()    \n",
    "        print('\\n')\n"
   ]
  },
  {
   "cell_type": "code",
   "execution_count": null,
   "metadata": {},
   "outputs": [],
   "source": [
    "folder"
   ]
  },
  {
   "cell_type": "code",
   "execution_count": null,
   "metadata": {},
   "outputs": [],
   "source": [
    "f"
   ]
  },
  {
   "cell_type": "code",
   "execution_count": null,
   "metadata": {},
   "outputs": [],
   "source": [
    "full_path"
   ]
  },
  {
   "cell_type": "code",
   "execution_count": null,
   "metadata": {},
   "outputs": [],
   "source": [
    "file"
   ]
  },
  {
   "cell_type": "code",
   "execution_count": null,
   "metadata": {},
   "outputs": [],
   "source": [
    "text"
   ]
  },
  {
   "cell_type": "code",
   "execution_count": null,
   "metadata": {},
   "outputs": [],
   "source": [
    "print(phone)"
   ]
  },
  {
   "cell_type": "code",
   "execution_count": null,
   "metadata": {},
   "outputs": [],
   "source": [
    "import re"
   ]
  },
  {
   "cell_type": "code",
   "execution_count": null,
   "metadata": {},
   "outputs": [],
   "source": [
    "text = 'Number is 123-456-7890'"
   ]
  },
  {
   "cell_type": "code",
   "execution_count": null,
   "metadata": {},
   "outputs": [],
   "source": [
    "phone = re.search(r'\\d{3}-\\d{3}-\\d{4}',text)"
   ]
  },
  {
   "cell_type": "code",
   "execution_count": null,
   "metadata": {},
   "outputs": [],
   "source": [
    "print(phone)"
   ]
  },
  {
   "cell_type": "code",
   "execution_count": null,
   "metadata": {},
   "outputs": [],
   "source": [
    "phone.group()"
   ]
  },
  {
   "cell_type": "code",
   "execution_count": null,
   "metadata": {},
   "outputs": [],
   "source": [
    "text = 'Number is blah blah blah'"
   ]
  },
  {
   "cell_type": "code",
   "execution_count": null,
   "metadata": {},
   "outputs": [],
   "source": [
    "phone = re.search(r'\\d{3}-\\d{3}-\\d{4}',text)"
   ]
  },
  {
   "cell_type": "code",
   "execution_count": null,
   "metadata": {},
   "outputs": [],
   "source": [
    "print(phone)"
   ]
  },
  {
   "cell_type": "code",
   "execution_count": null,
   "metadata": {},
   "outputs": [],
   "source": [
    "phone.group()"
   ]
  },
  {
   "cell_type": "code",
   "execution_count": 9,
   "metadata": {},
   "outputs": [],
   "source": [
    "#Another approach using custom regex search function\n",
    "\n",
    "import re\n",
    "\n",
    "def search(file,pattern=r'\\d{3}-\\d{3}-\\d{4}'):\n",
    "    f = open(file,'r')\n",
    "    text = f.read()\n",
    "    if re.search(pattern,text):\n",
    "        return re.search(pattern,text)\n",
    "    else:\n",
    "        pass"
   ]
  },
  {
   "cell_type": "code",
   "execution_count": 11,
   "metadata": {},
   "outputs": [],
   "source": [
    "import os\n",
    "\n",
    "results = []\n",
    "file_path = os.getcwd() + '\\\\extracted_content\\\\extracted_content'\n",
    "\n",
    "for folder, sub_folders, files in os.walk(file_path):\n",
    "    \n",
    "    for f in files:\n",
    "        \n",
    "        full_path = folder + '\\\\' + f\n",
    "        results.append(search(full_path))       \n"
   ]
  },
  {
   "cell_type": "code",
   "execution_count": 13,
   "metadata": {},
   "outputs": [
    {
     "name": "stdout",
     "output_type": "stream",
     "text": [
      "719-266-2837\n"
     ]
    }
   ],
   "source": [
    "for r in results:\n",
    "    \n",
    "    if r != None:\n",
    "        print(r.group())"
   ]
  },
  {
   "cell_type": "code",
   "execution_count": null,
   "metadata": {},
   "outputs": [],
   "source": []
  }
 ],
 "metadata": {
  "kernelspec": {
   "display_name": "Python 3",
   "language": "python",
   "name": "python3"
  },
  "language_info": {
   "codemirror_mode": {
    "name": "ipython",
    "version": 3
   },
   "file_extension": ".py",
   "mimetype": "text/x-python",
   "name": "python",
   "nbconvert_exporter": "python",
   "pygments_lexer": "ipython3",
   "version": "3.8.3"
  }
 },
 "nbformat": 4,
 "nbformat_minor": 4
}
