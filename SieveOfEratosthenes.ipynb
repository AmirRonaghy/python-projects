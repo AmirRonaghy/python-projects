{
 "cells": [
  {
   "cell_type": "markdown",
   "metadata": {},
   "source": [
    "# Sieve of Eratosthenes"
   ]
  },
  {
   "cell_type": "markdown",
   "metadata": {},
   "source": [
    "The sieve of Eratosthenes is one of the most efficient ways to find all of the smaller primes (below 10 million or so).\n",
    "\n",
    "Reference: https://en.wikipedia.org/wiki/Sieve_of_Eratosthenes"
   ]
  },
  {
   "cell_type": "code",
   "execution_count": 29,
   "metadata": {},
   "outputs": [],
   "source": [
    "#First pass: Remove numbers that are greater than and divisible by first number in list\n",
    "#Second pass: Remove numbers that are greater than and divisible by second number in remaining list\n",
    "#Etc until remaining numbers cannot be divided by any of the preceding numbers\n",
    "\n",
    "def sieveErat(num):\n",
    "    \n",
    "    try:\n",
    "    \n",
    "        #Create list of numbers up to and including specified number    \n",
    "        numlist = [*range(2,num+1)]\n",
    "\n",
    "        #For each list index -- e.g., index 0 of list = 2\n",
    "        for i in range(len(numlist)):\n",
    "\n",
    "            #While index is lesser than list length\n",
    "            while i < len(numlist):\n",
    "\n",
    "                #For each number in list of numbers -- 2 through specified number\n",
    "                for x in numlist:\n",
    "\n",
    "                    #If number is greater than and divisible by given value, remove number from list\n",
    "                    #E.g., first value of x (2) is equal to value of list index 0 (2) -- pass\n",
    "                    #Second value of x (3) is not divisible by 2 -- pass\n",
    "                    #Third value of x (4) is divisble by 2 -- remove\n",
    "                    #Repeat steps with index 1 of updated list (3), then index 2 (5), etc\n",
    "\n",
    "                    if x > numlist[i] and x % numlist[i] == 0:\n",
    "                        numlist.remove(x)\n",
    "\n",
    "                #Iterate through list indices until index matches list length             \n",
    "                break\n",
    "\n",
    "        #Pull numbers out of list to display them without brackets\n",
    "        numlist = [str(x) for x in numlist]\n",
    "        \n",
    "        print(f\"The prime numbers less than {num} are:\")\n",
    "        print(', '.join(numlist))\n",
    "    \n",
    "    except:\n",
    "        print(\"Please enter a valid number\")"
   ]
  },
  {
   "cell_type": "code",
   "execution_count": 30,
   "metadata": {},
   "outputs": [
    {
     "name": "stdout",
     "output_type": "stream",
     "text": [
      "The prime numbers less than 30 are:\n",
      "2, 3, 5, 7, 11, 13, 17, 19, 23, 29\n"
     ]
    }
   ],
   "source": [
    "sieveErat(30)"
   ]
  },
  {
   "cell_type": "code",
   "execution_count": 31,
   "metadata": {},
   "outputs": [
    {
     "name": "stdout",
     "output_type": "stream",
     "text": [
      "Please enter a valid number\n"
     ]
    }
   ],
   "source": [
    "sieveErat('ten')"
   ]
  },
  {
   "cell_type": "code",
   "execution_count": 32,
   "metadata": {},
   "outputs": [
    {
     "name": "stdout",
     "output_type": "stream",
     "text": [
      "The prime numbers less than -30 are:\n",
      "\n"
     ]
    }
   ],
   "source": [
    "sieveErat(-30)"
   ]
  },
  {
   "cell_type": "code",
   "execution_count": 33,
   "metadata": {},
   "outputs": [
    {
     "name": "stdout",
     "output_type": "stream",
     "text": [
      "The prime numbers less than 0 are:\n",
      "\n"
     ]
    }
   ],
   "source": [
    "sieveErat(0)"
   ]
  },
  {
   "cell_type": "code",
   "execution_count": 34,
   "metadata": {},
   "outputs": [
    {
     "name": "stdout",
     "output_type": "stream",
     "text": [
      "The prime numbers less than 1000 are:\n",
      "2, 3, 5, 7, 11, 13, 17, 19, 23, 29, 31, 37, 41, 43, 47, 53, 59, 61, 67, 71, 73, 79, 83, 89, 97, 101, 103, 107, 109, 113, 127, 131, 137, 139, 149, 151, 157, 163, 167, 173, 179, 181, 191, 193, 197, 199, 211, 223, 227, 229, 233, 239, 241, 251, 257, 263, 269, 271, 277, 281, 283, 293, 307, 311, 313, 317, 331, 337, 347, 349, 353, 359, 367, 373, 379, 383, 389, 397, 401, 409, 419, 421, 431, 433, 439, 443, 449, 457, 461, 463, 467, 479, 487, 491, 499, 503, 509, 521, 523, 541, 547, 557, 563, 569, 571, 577, 587, 593, 599, 601, 607, 613, 617, 619, 631, 641, 643, 647, 653, 659, 661, 673, 677, 683, 691, 701, 709, 719, 727, 733, 739, 743, 751, 757, 761, 769, 773, 787, 797, 809, 811, 821, 823, 827, 829, 839, 853, 857, 859, 863, 877, 881, 883, 887, 907, 911, 919, 929, 937, 941, 947, 953, 967, 971, 977, 983, 991, 997\n"
     ]
    }
   ],
   "source": [
    "sieveErat(1000)"
   ]
  },
  {
   "cell_type": "code",
   "execution_count": null,
   "metadata": {},
   "outputs": [],
   "source": []
  }
 ],
 "metadata": {
  "kernelspec": {
   "display_name": "Python 3",
   "language": "python",
   "name": "python3"
  },
  "language_info": {
   "codemirror_mode": {
    "name": "ipython",
    "version": 3
   },
   "file_extension": ".py",
   "mimetype": "text/x-python",
   "name": "python",
   "nbconvert_exporter": "python",
   "pygments_lexer": "ipython3",
   "version": "3.8.3"
  }
 },
 "nbformat": 4,
 "nbformat_minor": 4
}
